{
 "cells": [
  {
   "cell_type": "markdown",
   "id": "0e1b4254",
   "metadata": {},
   "source": [
    "# 415-HW2\n",
    "## Shuo Han"
   ]
  },
  {
   "cell_type": "code",
   "execution_count": 1,
   "id": "7b679cd7",
   "metadata": {},
   "outputs": [
    {
     "name": "stderr",
     "output_type": "stream",
     "text": [
      "2023-05-31 21:41:34.168268: I tensorflow/core/platform/cpu_feature_guard.cc:182] This TensorFlow binary is optimized to use available CPU instructions in performance-critical operations.\n",
      "To enable the following instructions: AVX2 FMA, in other operations, rebuild TensorFlow with the appropriate compiler flags.\n"
     ]
    }
   ],
   "source": [
    "import pandas as pd\n",
    "import numpy as np\n",
    "import seaborn as sns\n",
    "import matplotlib.pyplot as plt\n",
    "import matplotlib as mpl\n",
    "from sklearn.cluster import KMeans\n",
    "from sklearn.preprocessing import OneHotEncoder\n",
    "from sklearn.metrics.pairwise import euclidean_distances\n",
    "from sklearn.metrics.pairwise import cosine_distances\n",
    "from sklearn.feature_extraction.text import TfidfVectorizer\n",
    "from sklearn.linear_model import LinearRegression\n",
    "from sklearn.model_selection import train_test_split\n",
    "from sklearn.metrics import mean_squared_error\n",
    "from sklearn.linear_model import Lasso\n",
    "import scipy\n",
    "from transformers import BertTokenizer, BertModel\n",
    "from sklearn.metrics.pairwise import cosine_similarity"
   ]
  },
  {
   "cell_type": "markdown",
   "id": "15e2640b",
   "metadata": {},
   "source": [
    "## EDA\n",
    "### 1 Import and examine the data"
   ]
  },
  {
   "cell_type": "code",
   "execution_count": 2,
   "id": "25dfa0dd",
   "metadata": {},
   "outputs": [
    {
     "name": "stdout",
     "output_type": "stream",
     "text": [
      "Duplicated columns: Index([], dtype='object')\n",
      "Duplicated columns: Index([], dtype='object')\n",
      "Missing columns: Index([], dtype='object')\n",
      "Missing columns: Index([], dtype='object')\n",
      "Number of outliers: 8\n",
      "Number of data: 1444\n",
      "Percentage of outliers:  0.00554016620498615\n",
      "Number of outliers: 3\n",
      "Number of data: 63\n",
      "Percentage of outliers:  0.047619047619047616\n",
      "Reviewer Name                     0\n",
      "Restaurant Name                   0\n",
      "Rating                            0\n",
      "Review Text                     546\n",
      "Date of Review                    0\n",
      "Birth Year                        2\n",
      "Marital Status                   35\n",
      "Has Children?                    38\n",
      "Vegetarian?                    1342\n",
      "Weight (lb)                      97\n",
      "Height (in)                      54\n",
      "Average Amount Spent              2\n",
      "Preferred Mode of Transport       7\n",
      "Northwestern Student?             1\n",
      "dtype: int64\n",
      "Restaurant Name      0\n",
      "Cuisine              0\n",
      "Latitude             0\n",
      "Longitude            0\n",
      "Average Cost         0\n",
      "Open After 8pm?      0\n",
      "Brief Description    0\n",
      "dtype: int64\n",
      "Reviewer Name                  0.000000\n",
      "Restaurant Name                0.000000\n",
      "Rating                         0.000000\n",
      "Review Text                    0.378116\n",
      "Date of Review                 0.000000\n",
      "Birth Year                     0.001385\n",
      "Marital Status                 0.024238\n",
      "Has Children?                  0.026316\n",
      "Vegetarian?                    0.929363\n",
      "Weight (lb)                    0.067175\n",
      "Height (in)                    0.037396\n",
      "Average Amount Spent           0.001385\n",
      "Preferred Mode of Transport    0.004848\n",
      "Northwestern Student?          0.000693\n",
      "dtype: float64\n"
     ]
    }
   ],
   "source": [
    "rr = pd.read_excel('RestaurantReviews.xlsx', sheet_name='Reviews')\n",
    "rs = pd.read_excel('RestaurantReviews.xlsx', sheet_name='Restaurants')\n",
    "\n",
    "# identify duplicated columns\n",
    "dc = rr.columns[rr.columns.duplicated()]\n",
    "dcs = rs.columns[rs.columns.duplicated()]\n",
    "print('Duplicated columns:', dc)\n",
    "print('Duplicated columns:', dcs)\n",
    "\n",
    "# columns with entirely missing data\n",
    "mc = rr.columns[rr.isnull().all()]\n",
    "mcs = rs.columns[rs.isnull().all()]\n",
    "print('Missing columns:', mc)\n",
    "print('Missing columns:', mcs)\n",
    "\n",
    "# outliers in numerical variables with z-score\n",
    "# rr\n",
    "nc = rr.select_dtypes(include=[np.number]).columns\n",
    "\n",
    "for col in nc:\n",
    "    cz = col + '_zscore'\n",
    "    rr[cz] = (rr[col] - rr[col].mean()) / rr[col].std(ddof=0)\n",
    "outlier = rr[(rr.filter(regex='_zscore').gt(3) | rr.filter(regex='_zscore').lt(-3)).any(axis=1)]\n",
    "\n",
    "numOut = len(outlier)\n",
    "print(\"Number of outliers:\", numOut)\n",
    "numRR = len(rr)\n",
    "print(\"Number of data:\", numRR)\n",
    "print(\"Percentage of outliers: \", numOut/numRR)\n",
    "rr = rr.drop(outlier.index)\n",
    "rr.drop(rr.filter(regex='_zscore').columns, axis=1, inplace=True)\n",
    "\n",
    "# rs\n",
    "ncs = rs.select_dtypes(include=[np.number]).columns\n",
    "\n",
    "for col in ncs:\n",
    "    cz = col + '_zscore'\n",
    "    rs[cz] = (rs[col] - rs[col].mean()) / rs[col].std(ddof=0)\n",
    "outliers = rs[(rs.filter(regex='_zscore').gt(3) | rs.filter(regex='_zscore').lt(-3)).any(axis=1)]\n",
    "\n",
    "numOuts = len(outliers)\n",
    "print(\"Number of outliers:\", numOuts)\n",
    "numRS = len(rs)\n",
    "print(\"Number of data:\", numRS)\n",
    "print(\"Percentage of outliers: \", numOuts/numRS)\n",
    "rs = rs.drop(outliers.index)\n",
    "rs.drop(rs.filter(regex='_zscore$').columns, axis=1, inplace=True)\n",
    "\n",
    "# rs data clean\n",
    "rs['Longitude'] = rs['Longitude'].replace(',', '', regex=True).astype(float)\n",
    "\n",
    "# Identify columns with missing values\n",
    "print(rr.isnull().sum())\n",
    "print(rs.isnull().sum())\n",
    "print(rr.isnull().sum()/numRR)\n",
    "\n",
    "rr['Vegetarian?'] = rr['Vegetarian?'].fillna('missing')\n",
    "rr['Review Text'] = rr['Review Text'].fillna('')\n",
    "rr['Weight (lb)'].fillna(rr['Weight (lb)'].mean(), inplace=True)\n",
    "rr['Height (in)'].fillna(rr['Height (in)'].mean(), inplace=True)\n",
    "rr.dropna(subset=['Birth Year', 'Marital Status', 'Has Children?','Average Amount Spent', \n",
    "                  'Preferred Mode of Transport', 'Northwestern Student?'], inplace=True)\n",
    "\n",
    "merge = pd.merge(rr, rs, on='Restaurant Name', how='left')"
   ]
  },
  {
   "cell_type": "markdown",
   "id": "b75fb1da",
   "metadata": {},
   "source": [
    "In this part, I have identified duplicated columns and columns with entirely missing data in these two sheets but there is not one at all. Then I have identified outliers in these two sheets, and we can see that the percentage of outliers in the review sheet is 0.00554016620498615, and in the restaurant sheet 0.047619047619047616, which are both relatively small, so I have removed these from the dataset. Then I haved checked columns with missing values in these two sheets. There is not missing values in the restaurant sheet, but some in the review sheet. For the review sheet, I have calculated the portion of missing values in the sheet for each variable. The percentage of missing values in column \"Vegetarian?\" and \"Review Text\" are fairly large, so I replaced these with value \"missing\" for \"Vegetarian?\" and \"\" for \"Review Text\", since we are doing content analysis for that. Also, there are some columns with relatively less missing values, so I have replaced these columns 'Weight (lb)' and 'Height (in)' with the mean value of these columns. Also, there are some columns with very few missing value, even less than 3% of the data, 'Birth Year', 'Marital Status', 'Has Children?','Average Amount Spent', 'Preferred Mode of Transport', 'Northwestern Student?', so I have dropped these rows with missing values. And finally, I have added a mew dataset merge, which is merged by the review sheet and restaurant sheet."
   ]
  },
  {
   "cell_type": "markdown",
   "id": "9b3e7b5d",
   "metadata": {},
   "source": [
    "### 2 histograms"
   ]
  },
  {
   "cell_type": "code",
   "execution_count": 3,
   "id": "0283b6d9",
   "metadata": {},
   "outputs": [
    {
     "data": {
      "image/png": "[encoded data removed]",
      "text/plain": [
       "<Figure size 1200x800 with 6 Axes>"
      ]
     },
     "metadata": {},
     "output_type": "display_data"
    },
    {
     "data": {
      "image/png": "[encoded data removed]",
      "text/plain": [
       "<Figure size 600x400 with 1 Axes>"
      ]
     },
     "metadata": {},
     "output_type": "display_data"
    }
   ],
   "source": [
    "fig, axes = plt.subplots(nrows=2, ncols=3, figsize=(12, 8))\n",
    "plt.subplots_adjust(hspace=0.5, wspace=0.35)\n",
    "\n",
    "vrbs = ['Has Children?', 'Vegetarian?', 'Weight (lb)', 'Preferred Mode of Transport', 'Average Amount Spent', 'Northwestern Student?']\n",
    "a = 0\n",
    "b = 0\n",
    "for i in vrbs:\n",
    "    axes[a,b].hist(rr[i], bins=30)\n",
    "    axes[a,b].set_title('Distribution of '+i)\n",
    "    axes[a,b].set_xlabel(i)\n",
    "    axes[a,b].set_ylabel('Count')\n",
    "    if b == 2:\n",
    "        b=0\n",
    "        a+=1\n",
    "    else:\n",
    "        b+=1  \n",
    "\n",
    "plt.figure(figsize=(6, 4))\n",
    "plt.hist(rs['Cuisine'], bins=30)\n",
    "plt.title('Distribution of Cuisine')\n",
    "plt.xlabel('Cuisine')\n",
    "plt.xticks(rotation=45, ha='right')\n",
    "plt.ylabel('Count')\n",
    "plt.show()"
   ]
  },
  {
   "cell_type": "markdown",
   "id": "171e524c",
   "metadata": {},
   "source": [
    "I have tried to make histograms for 'has children', 'vegetarian', 'weight', 'prefered mode of transport', 'average amount spent', 'Northwestern student' and 'cusine'. We can see that the dataset is actually not properly balanced. \n",
    "In the histogram of 'Has Children?', we can see that the number of reviews from reviewers with children is almost double the number of reviews from reviewers without children, so it is really unbalanced. \n",
    "For the histogram of 'Vegetarian?', we can see that there are so many reviews from reviewers with unknown vegetarian preference, and there are more reviews from non-vegetarians than vegetarians, so the data is fairly incomplete in column 'Vegetarian?' and not so balanced with these data provide. \n",
    "For the the histogram of 'Weight (lb)', we can see that most of these reviews are from reviewers of weights between aroung 125lb to 220lb, and for these reviewers weighs fairly balanced between 110lb to 310lb, but there are some reviewers weighs aroung 350lb, and some especially more weighs around 210lb and 130lb.\n",
    "In the histogram of 'Preferred Mode of Transport', there are more reviews are from car owners than reviewers who prefers on foot than public transit. Thus, from the aspect of 'Preferred Mode of Transport', we can still say the data is fairly unbalanced.\n",
    "From the the histogram of 'Average Amount Spent', we can see that there are more reviews for restaurants of medium than low than hight average amount spent, and there are big differences in the amount of these reviews. Thus, the data is fairly unbalanced based on 'Average Amount Spent'.\n",
    "From the the histogram of 'Northwestern Student?', we can see that there are much more reviews for restaurants from non-Northwestern Student than Northwestern Student, so the data is really unbalanced based on 'Northwestern Student?'.\n",
    "From the the histogram of 'Cuisine', we can see that there are reviews for 22 types of cuisines, and there are many reviews for American cuisine, and only a few for BBQ, Vegetarian, Irish, Breakfase, Jamaican and Brewery cusine. There are great differences in the number, so the data is really unbalanced."
   ]
  },
  {
   "cell_type": "markdown",
   "id": "e61aee4e",
   "metadata": {},
   "source": [
    "### 3 clustering on the user demographic data"
   ]
  },
  {
   "cell_type": "code",
   "execution_count": 4,
   "id": "7c29c499",
   "metadata": {
    "scrolled": true
   },
   "outputs": [
    {
     "name": "stdout",
     "output_type": "stream",
     "text": [
      "    Birth Year  Count\n",
      "0  1989.000000    326\n",
      "1  1961.376344    279\n",
      "2  1945.740541    185\n",
      "3  1999.921569    357\n",
      "4  1976.429167    240\n"
     ]
    },
    {
     "name": "stderr",
     "output_type": "stream",
     "text": [
      "/Users/ellenh/anaconda3/lib/python3.10/site-packages/sklearn/cluster/_kmeans.py:870: FutureWarning: The default value of `n_init` will change from 10 to 'auto' in 1.4. Set the value of `n_init` explicitly to suppress the warning\n",
      "  warnings.warn(\n",
      "/var/folders/6m/72gsx1kn1cd5rj99dq1_44yh0000gn/T/ipykernel_15932/1533792113.py:14: FutureWarning: The default value of numeric_only in DataFrameGroupBy.mean is deprecated. In a future version, numeric_only will default to False. Either specify numeric_only or select only columns which should be valid for the function.\n",
      "  cluster_mean = rr.groupby('cluster')[cvars].mean()\n"
     ]
    }
   ],
   "source": [
    "# select categorical variables for one-hot encoding\n",
    "cvars = ['Birth Year', 'Marital Status', 'Vegetarian?']\n",
    "rc = rr[cvars]\n",
    "\n",
    "# One-hot encode the categorical variables\n",
    "enc = pd.get_dummies(rc)\n",
    "\n",
    "# Perform clustering using KMeans algorithm\n",
    "kmeans = KMeans(n_clusters=5, random_state=0).fit(enc)\n",
    "\n",
    "# Add the cluster labels to the original dataframe\n",
    "rr['cluster'] = kmeans.labels_\n",
    "\n",
    "cluster_mean = rr.groupby('cluster')[cvars].mean()\n",
    "cluster_count = rr['cluster'].value_counts().to_frame(name='Count')\n",
    "cluster_summary = pd.concat([cluster_mean, cluster_count], axis=1)\n",
    "print(cluster_summary)"
   ]
  },
  {
   "cell_type": "markdown",
   "id": "776734c7",
   "metadata": {},
   "source": [
    "There are 5 clusters(after optimization) by KMeans algorithm, and we can see that the mean birth year of these groups are . The mean birth year of clusters ranges for 54 years, so these are really distinct 5 clusters of users. Also, we can see that there are roughly more users in the group of later mean birth year than the earlier."
   ]
  },
  {
   "cell_type": "markdown",
   "id": "7fac9100",
   "metadata": {},
   "source": [
    "### 4 compute the average review score across the entire cluster"
   ]
  },
  {
   "cell_type": "code",
   "execution_count": 5,
   "id": "ba7ecdd2",
   "metadata": {},
   "outputs": [
    {
     "name": "stdout",
     "output_type": "stream",
     "text": [
      "     Rating   Birth Year  Count\n",
      "0  3.726994  1989.000000    326\n",
      "1  3.799283  1961.376344    279\n",
      "2  3.627027  1945.740541    185\n",
      "3  3.955182  1999.921569    357\n",
      "4  3.733333  1976.429167    240\n"
     ]
    }
   ],
   "source": [
    "# Compute the average review score for each cluster\n",
    "avgs = rr.groupby('cluster')['Rating'].mean()\n",
    "\n",
    "# Print the average review score for each cluster\n",
    "cluster_rev = pd.concat([avgs, cluster_summary], axis=1)\n",
    "print(cluster_rev)"
   ]
  },
  {
   "cell_type": "markdown",
   "id": "687c888e",
   "metadata": {},
   "source": [
    "After computing the average review score across the entire cluster, we can see that there is a trend in these clusters that as the mean birth year of clusters get later, there are more users in the cluster and the mean rating tends to be higher in the cluster, but still some minor downward trends in the rating as years get later."
   ]
  },
  {
   "cell_type": "markdown",
   "id": "9ba725ab",
   "metadata": {},
   "source": [
    "## Popularity matching\n",
    "### 5"
   ]
  },
  {
   "cell_type": "code",
   "execution_count": 6,
   "id": "7ca3bb7d",
   "metadata": {},
   "outputs": [
    {
     "name": "stdout",
     "output_type": "stream",
     "text": [
      "Most highly rated restaurant: 1062    Evanston Games & Cafe\n",
      "Name: Restaurant Name, dtype: object\n",
      "Average review score: 3.79\n",
      "Median review score: 4.00\n"
     ]
    },
    {
     "data": {
      "image/png": "[encoded data removed]",
      "text/plain": [
       "<Figure size 640x480 with 1 Axes>"
      ]
     },
     "metadata": {},
     "output_type": "display_data"
    }
   ],
   "source": [
    "# the most highly rated restaurant\n",
    "grouped_ratings = rr.groupby('Restaurant Name')['Rating'].mean()\n",
    "maxr = grouped_ratings.idxmax()\n",
    "hrr = rr.loc[rr['Restaurant Name'] == maxr, 'Restaurant Name']\n",
    "print('Most highly rated restaurant: {}'.format(hrr))\n",
    "\n",
    "# the average review score\n",
    "avgrs = rr['Rating'].mean()\n",
    "print('Average review score: {:.2f}'.format(avgrs))\n",
    "\n",
    "# the median review score\n",
    "medrs = rr['Rating'].median()\n",
    "print('Median review score: {:.2f}'.format(medrs))\n",
    "\n",
    "# histogram of review scores\n",
    "plt.hist(rr['Rating'], bins=30)\n",
    "plt.title('Distribution of Review Scores')\n",
    "plt.xlabel('Review Score')\n",
    "plt.ylabel('Count')\n",
    "plt.show()"
   ]
  },
  {
   "cell_type": "markdown",
   "id": "8a35aa3e",
   "metadata": {},
   "source": [
    "From the histogram of the review score, we can see that the number of reviews with a review score 5 is the most. And the rating are all of integer values ranging from 1 to 5 as shown above."
   ]
  },
  {
   "cell_type": "markdown",
   "id": "922b84f8",
   "metadata": {},
   "source": [
    "### 6"
   ]
  },
  {
   "cell_type": "code",
   "execution_count": 7,
   "id": "4f65c8ff",
   "metadata": {},
   "outputs": [
    {
     "name": "stdout",
     "output_type": "stream",
     "text": [
      "Restaurant with the largest quantity of reviews: Campagnola (47 reviews)\n",
      "The median number of reviews received: 23.00\n"
     ]
    }
   ],
   "source": [
    "# restaurant with the largest quantity of reviews\n",
    "maxr = rr['Restaurant Name'].value_counts().idxmax()\n",
    "num_reviews = rr['Restaurant Name'].value_counts().max()\n",
    "\n",
    "# restaurant with the median number of reviews\n",
    "medr = rr['Restaurant Name'].value_counts().median()\n",
    "\n",
    "# Print the results\n",
    "print('Restaurant with the largest quantity of reviews: {} ({} reviews)'.format(maxr, num_reviews))\n",
    "print('The median number of reviews received: {:.2f}'.format(medr))"
   ]
  },
  {
   "cell_type": "markdown",
   "id": "763eec6e",
   "metadata": {},
   "source": [
    "### 7"
   ]
  },
  {
   "cell_type": "code",
   "execution_count": 8,
   "id": "0d064b1e",
   "metadata": {},
   "outputs": [
    {
     "name": "stdout",
     "output_type": "stream",
     "text": [
      "These are recommended restaurants for Spanish (in descending order): ['Tapas Barcelona', '5411 Empanadas']\n",
      "These are recommended restaurants for Chinese (in descending order): ['Joy Yee Noodle', 'Peppercorns Kitchen', 'Lao Sze Chuan']\n",
      "These are recommended restaurants for Mexican (in descending order): ['Fonda Cantina', 'Zentli', 'Taco Diablo', 'Fridas', 'Chipotle']\n",
      "These are recommended restaurants for Coffee (in descending order): ['Evanston Games & Cafe', 'Philz Coffee', 'Brothers K Coffeehouse', 'Pâtisserie Coralie']\n"
     ]
    }
   ],
   "source": [
    "# recommendation engine\n",
    "def recommend(x):\n",
    "    re_cui = merge[merge['Cuisine'] == x]\n",
    "    rrat = re_cui.groupby('Restaurant Name')['Rating'].mean().reset_index(name='Mean Rating')\n",
    "    sortr = rrat.sort_values(by='Mean Rating', ascending=False)\n",
    "    recom = sortr['Restaurant Name'].tolist()\n",
    "    print('These are recommended restaurants for', x, '(in descending order):', recom)\n",
    "\n",
    "# give reccommendations for Spanish food, Chinese food, Mexican food, and Coffee\n",
    "recommend('Spanish')\n",
    "recommend('Chinese')\n",
    "recommend('Mexican')\n",
    "recommend('Coffee')"
   ]
  },
  {
   "cell_type": "markdown",
   "id": "bd1ceb63",
   "metadata": {},
   "source": [
    "I have made the recommendation engine based on the mean vales of rating for each restaurant. A user can input a cusine type and receive a list of reccommendation in descending order based on popularity score."
   ]
  },
  {
   "cell_type": "markdown",
   "id": "d596b51a",
   "metadata": {},
   "source": [
    "### 8"
   ]
  },
  {
   "cell_type": "code",
   "execution_count": 9,
   "id": "a30013e8",
   "metadata": {},
   "outputs": [
    {
     "name": "stdout",
     "output_type": "stream",
     "text": [
      "Index(['Clare's Korner', 'Todoroki Sushi', 'Trattoria Demi', 'Rezas'], dtype='object', name='Restaurant Name')\n",
      "Index(['Evanston Games & Cafe', 'La Principal', 'World Market', 'LeTour'], dtype='object', name='Restaurant Name')\n"
     ]
    },
    {
     "data": {
      "image/png": "[encoded data removed]",
      "text/plain": [
       "<Figure size 640x480 with 1 Axes>"
      ]
     },
     "metadata": {},
     "output_type": "display_data"
    }
   ],
   "source": [
    "# Implement a shrinkage estimator that shrinks reviews back towards the mean score, scaled by the number of reviews a restaurant has received. \n",
    "shr_data = merge.groupby('Restaurant Name').agg({'Rating' : 'mean', 'Review Text': 'count'}).rename(columns={'Rating': 'Mean Rating', 'Review Text': 'Number of Ratings'})\n",
    "\n",
    "mu_s = shr_data['Mean Rating'].mean()\n",
    "N_mu = shr_data['Number of Ratings'].mean()\n",
    "\n",
    "shr_est = []\n",
    "for res in shr_data.index:\n",
    "    N_p = shr_data.loc[res, 'Number of Ratings']\n",
    "    alpha = min((N_p / N_mu), 1)\n",
    "    mu_p = shr_data.loc[res,'Mean Rating']\n",
    "    shr = (1 - alpha) * mu_s + alpha * mu_p\n",
    "    shr_est.append(shr)\n",
    "\n",
    "shr_data['Shrinkage Estimator'] = shr_est\n",
    "shr_data['Rating Difference'] = shr_data['Shrinkage Estimator'] - shr_data['Mean Rating']\n",
    "\n",
    "# restaurant benefits the most from this shrinkage estimation\n",
    "top_pos = shr_data.nlargest(4, 'Rating Difference')\n",
    "print(top_pos.index)\n",
    "# restaurant hurt the most by this shrinkage estimation\n",
    "top_neg = shr_data.nsmallest(4, 'Rating Difference')\n",
    "print(top_neg.index)        \n",
    "\n",
    "# Concatenate the dataframes for plotting\n",
    "top_4 = pd.concat([top_neg, top_pos]).sort_values('Rating Difference')\n",
    "\n",
    "# Create a bar chart\n",
    "plt.barh(y=top_4.index, width=top_4['Rating Difference'])\n",
    "plt.xlabel('Change in Review Score due to Shrinkage Estimation')\n",
    "plt.ylabel('Restaurant Name')\n",
    "plt.title('Top 4 Positive and Negative Changes in Review Scores')\n",
    "plt.show()"
   ]
  },
  {
   "cell_type": "markdown",
   "id": "6b0e2fb9",
   "metadata": {},
   "source": [
    "I have implement a shrinkage estimator that shrinks reviews back towards the mean score, scaled by the number of reviews a restaurant has received from lecture slides right here. Top 4 restaurants that benefits the most from this shrinkage estimation are 'Clare's Korner', 'Todoroki Sushi', 'Trattoria Demi', 'Rezas'; top 4 restaurants hurt the most by it are 'Evanston Games & Cafe', 'La Principal', 'World Market', 'LeTour'. Also, I have made a plot that demonstrates changes in review scores due to shrinkage estimation for the top 4-positive and negative changes in a bar chart. We can see from the plot above that the restaurant 'Clare's Korner' is affected the most after shrinking and its rating is improved by this, while other restaurants does not seriously benefit from this. Also, there are more restaurant fairly negtively affected by shrinking, and they are affected a lot."
   ]
  },
  {
   "cell_type": "markdown",
   "id": "b515b5bb",
   "metadata": {},
   "source": [
    "## Content based filtering\n",
    "### 9"
   ]
  },
  {
   "cell_type": "code",
   "execution_count": 10,
   "id": "e45e86c9",
   "metadata": {
    "scrolled": false
   },
   "outputs": [
    {
     "name": "stdout",
     "output_type": "stream",
     "text": [
      "[[0.         2.00000079 7.141429   ... 2.45007571 2.44963616 7.28011246]\n",
      " [2.00000079 0.         7.28011037 ... 2.45008167 2.44962076 7.28011211]\n",
      " [7.141429   7.28011037 0.         ... 7.41637534 7.41623844 2.00000267]\n",
      " ...\n",
      " [2.45007571 2.45008167 7.41637534 ... 0.         2.00057594 7.41635632]\n",
      " [2.44963616 2.44962076 7.41623844 ... 2.00057594 0.         7.41623089]\n",
      " [7.28011246 7.28011211 2.00000267 ... 7.41635632 7.41623089 0.        ]]\n"
     ]
    },
    {
     "name": "stderr",
     "output_type": "stream",
     "text": [
      "/Users/ellenh/anaconda3/lib/python3.10/site-packages/sklearn/preprocessing/_encoders.py:868: FutureWarning: `sparse` was renamed to `sparse_output` in version 1.2 and will be removed in 1.4. `sparse_output` is ignored unless you leave `sparse` to its default value.\n",
      "  warnings.warn(\n"
     ]
    }
   ],
   "source": [
    "# One-hot encode the categorical variables\n",
    "cat_cols = ['Cuisine', 'Open After 8pm?', 'Brief Description']\n",
    "\n",
    "enc = OneHotEncoder(sparse=False)\n",
    "enc_data = pd.DataFrame(enc.fit_transform(rs[cat_cols]), columns=enc.get_feature_names_out(cat_cols))\n",
    "\n",
    "# Combine the one-hot encodeddata with the original data\n",
    "all_data = pd.concat([rs.drop(columns=cat_cols).reset_index(drop=True), enc_data.reset_index(drop=True)], axis=1)\n",
    "\n",
    "# Set the restaurant name as index\n",
    "all_data.set_index('Restaurant Name', inplace=True)\n",
    "\n",
    "# Compute the Euclidean distance matrix between all data points\n",
    "distance_matrix = euclidean_distances(all_data)\n",
    "print(distance_matrix)\n",
    "\n",
    "# Add the restaurant name back to the distance matrix\n",
    "distance_matrix = pd.DataFrame(distance_matrix, index=all_data.index, columns=all_data.index)"
   ]
  },
  {
   "cell_type": "markdown",
   "id": "cc61160b",
   "metadata": {},
   "source": [
    "There are 4 columns of categorical variables in the sheet restaurants, so I have used one-hot encodings to deal with these 4 columns. And then I have computed the euclidean distance between every restaurant and printed the distance matrix above, but it takes spaces to display with restaurant names so I have formed one in code but display the one without restaurant name here."
   ]
  },
  {
   "cell_type": "markdown",
   "id": "aad3c248",
   "metadata": {},
   "source": [
    "### 10"
   ]
  },
  {
   "cell_type": "code",
   "execution_count": 11,
   "id": "5886eff9",
   "metadata": {},
   "outputs": [
    {
     "name": "stdout",
     "output_type": "stream",
     "text": [
      "[[0.         0.00020287 0.00254742 ... 0.00030428 0.00030423 0.00265035]\n",
      " [0.00020287 0.         0.0026499  ... 0.00030428 0.00030423 0.00265018]\n",
      " [0.00254742 0.0026499  0.         ... 0.00274755 0.00274898 0.00020772]\n",
      " ...\n",
      " [0.00030428 0.00030428 0.00274755 ... 0.         0.00020286 0.00274782]\n",
      " [0.00030423 0.00030423 0.00274898 ... 0.00020286 0.         0.00274926]\n",
      " [0.00265035 0.00265018 0.00020772 ... 0.00274782 0.00274926 0.        ]]\n"
     ]
    }
   ],
   "source": [
    "# cosine distance\n",
    "distance_matrix_cos = cosine_distances(all_data)\n",
    "print(distance_matrix_cos)\n",
    "distance_matrix_cos = pd.DataFrame(distance_matrix_cos, index=all_data.index, columns=all_data.index)"
   ]
  },
  {
   "cell_type": "markdown",
   "id": "9fb1e84c",
   "metadata": {},
   "source": [
    "Silimar to the process above, this time I have computed the cosine distance between every restaurant and printed the distance matrix above, but it takes spaces to display with restaurant names so I have formed one in code but display the one without restaurant name here."
   ]
  },
  {
   "cell_type": "markdown",
   "id": "6f2dc6fc",
   "metadata": {},
   "source": [
    "### 11"
   ]
  },
  {
   "cell_type": "code",
   "execution_count": 46,
   "id": "624bcb95",
   "metadata": {},
   "outputs": [
    {
     "name": "stdout",
     "output_type": "stream",
     "text": [
      "['Leonidas Cafe Chocolaterie', \"Hecky's BBQ\", 'Le Peep', \"Kilwin's\", 'Clarkes Off Campus']\n"
     ]
    },
    {
     "name": "stderr",
     "output_type": "stream",
     "text": [
      "/var/folders/6m/72gsx1kn1cd5rj99dq1_44yh0000gn/T/ipykernel_15932/1192043847.py:22: UserWarning: FixedFormatter should only be used together with FixedLocator\n",
      "  ax.set_xticklabels(ax.get_xticklabels(), rotation=20)\n"
     ]
    },
    {
     "data": {
      "image/png": "[encoded data removed]",
      "text/plain": [
       "<Figure size 640x480 with 1 Axes>"
      ]
     },
     "metadata": {},
     "output_type": "display_data"
    }
   ],
   "source": [
    "# a script that takes a user and returns a reccommendation using content based filtering\n",
    "# Define a function to get the top recommendations for a user\n",
    "def get_reco(user):\n",
    "    liked_restaurants = rr.loc[rr[\"Reviewer Name\"] == user][\"Restaurant Name\"].tolist()\n",
    "    avg_distances = distance_matrix_cos.loc[liked_restaurants].mean()\n",
    "    top_recom = avg_distances.sort_values().index.tolist()[:5]\n",
    "    print(top_recom)\n",
    "    \n",
    "# Example usage\n",
    "top_recom = get_reco('Constance Devos')\n",
    "\n",
    "# Plot the recommended restaurants by their latitude and longitude\n",
    "top_recom = ['Leonidas Cafe Chocolaterie', \"Hecky's BBQ\", 'Le Peep', \"Kilwin's\", 'Clarkes Off Campus']\n",
    "recom_data = rs.loc[rs['Restaurant Name'].isin([r for r in top_recom if r is not None])]\n",
    "\n",
    "fig, ax = plt.subplots()\n",
    "colors = np.where(recom_data['Restaurant Name'] == 'Leonidas Cafe Chocolaterie', 'red', 'blue')\n",
    "ax.scatter(recom_data['Longitude'], recom_data['Latitude'], c=colors)\n",
    "ax.set_xlabel('Longitude')\n",
    "ax.set_ylabel('Latitude')\n",
    "ax.set_title('Top Recommendations for Constance Devos')\n",
    "ax.set_xticklabels(ax.get_xticklabels(), rotation=20)\n",
    "\n",
    "for i, row in recom_data.iterrows():\n",
    "    if row['Restaurant Name'] in top_recom:\n",
    "        ax.annotate(row['Restaurant Name'], (row['Longitude'], row['Latitude']), bbox=dict(boxstyle='round,pad=0.3', fc='yellow', alpha=0.5))\n",
    "\n",
    "plt.show()"
   ]
  },
  {
   "cell_type": "markdown",
   "id": "ca39114d",
   "metadata": {},
   "source": [
    "I have written a function that takes a user and returns a reccommendation using content based filtering based on cosine distance above. And tried to find the recommended restaurants for the user 'Constance Devos', and get the list of recommended restaurant 'Leonidas Cafe Chocolaterie', \"Hecky's BBQ\", 'Le Peep', \"Kilwin's\", 'Clarkes Off Campus'. Also for Constance Devos, I have plotted the top reccommendations by the system. "
   ]
  },
  {
   "cell_type": "markdown",
   "id": "a6b96cf5",
   "metadata": {},
   "source": [
    "## Natural language analysis\n",
    "### 12"
   ]
  },
  {
   "cell_type": "code",
   "execution_count": 13,
   "id": "59b53385",
   "metadata": {},
   "outputs": [],
   "source": [
    "# Augement brief description\n",
    "rs['Augmented Description'] = rs['Brief Description'] + rs['Cuisine']"
   ]
  },
  {
   "cell_type": "markdown",
   "id": "4b532100",
   "metadata": {},
   "source": [
    "I have augemented this description by attaching the restaurant's cusine type to the end of the description as a column 'Augmented Description'."
   ]
  },
  {
   "cell_type": "markdown",
   "id": "fe4a5a9c",
   "metadata": {},
   "source": [
    "### 13"
   ]
  },
  {
   "cell_type": "code",
   "execution_count": 14,
   "id": "e5323406",
   "metadata": {},
   "outputs": [
    {
     "name": "stdout",
     "output_type": "stream",
     "text": [
      "[[1.         0.1        0.14285714 ... 0.21428571 0.125      0.25      ]\n",
      " [0.125      1.         0.21428571 ... 0.14285714 0.1875     0.25      ]\n",
      " [0.125      0.15       1.         ... 0.07142857 0.3125     0.125     ]\n",
      " ...\n",
      " [0.1875     0.1        0.07142857 ... 1.         0.0625     0.5       ]\n",
      " [0.125      0.15       0.35714286 ... 0.07142857 1.         0.125     ]\n",
      " [0.125      0.1        0.07142857 ... 0.28571429 0.0625     1.        ]]\n"
     ]
    }
   ],
   "source": [
    "# Compute the Jaccard matrix\n",
    "jaccard_matrix = rs['Augmented Description'].apply(lambda x: set(x.split())).apply(lambda x: rs['Augmented Description'].apply(lambda y: len(x.intersection(set(y.split()))))/rs['Augmented Description'].apply(lambda z: len(set(z.split())))).values.reshape(rs.shape[0], rs.shape[0])\n",
    "print(jaccard_matrix)\n",
    "# Create a DataFrame from the matrix with restaurant names as row and column labels\n",
    "jaccard_df = pd.DataFrame(jaccard_matrix, index=rs['Restaurant Name'], columns=rs['Restaurant Name'])"
   ]
  },
  {
   "cell_type": "markdown",
   "id": "47a3664d",
   "metadata": {},
   "source": [
    "The computed Jaccard matrix using the elements of Augemented Description is shown above, but same as before, it takes spaces to display with restaurant names so I have formed one in code but display the one without restaurant name here."
   ]
  },
  {
   "cell_type": "markdown",
   "id": "bbf63856",
   "metadata": {},
   "source": [
    "### 14"
   ]
  },
  {
   "cell_type": "code",
   "execution_count": 15,
   "id": "734a1e44",
   "metadata": {},
   "outputs": [
    {
     "name": "stdout",
     "output_type": "stream",
     "text": [
      "The restaurant with the highest TF-IDF score for the word cozy is: Taste of Nepal\n",
      "The restaurant with the highest TF-IDF score for the word chinese is: Lao Sze Chuan\n"
     ]
    }
   ],
   "source": [
    "#  compute the TF-IDF score for each restaurant's Augmented Description\n",
    "tfidf = TfidfVectorizer()\n",
    "tfidf_matrix = tfidf.fit_transform(rs['Augmented Description'])\n",
    "\n",
    "def tfi_res(word): \n",
    "    word_scores = tfidf_matrix[:, tfidf.vocabulary_[word]].toarray()\n",
    "\n",
    "    highest_word_score_index = np.argmax(word_scores)\n",
    "    restaurant_name = rs.iloc[highest_word_score_index]['Restaurant Name']\n",
    "    print('The restaurant with the highest TF-IDF score for the word', word, 'is:', restaurant_name)\n",
    "\n",
    "tfi_res('cozy')\n",
    "tfi_res('chinese')"
   ]
  },
  {
   "cell_type": "markdown",
   "id": "28e0f685",
   "metadata": {},
   "source": [
    "I have compute the TF-IDF score for each restaurant's Augmented Description above first and made a function for that. By this function, we can see that the restaurant with the highest TF-IDF score for the word 'cozy' is Taste of Nepal, for 'chinese' is Lao Sze Chuan."
   ]
  },
  {
   "cell_type": "markdown",
   "id": "a08ef3c2",
   "metadata": {},
   "source": [
    "### 15"
   ]
  },
  {
   "cell_type": "code",
   "execution_count": 16,
   "id": "79a2fff7",
   "metadata": {},
   "outputs": [
    {
     "name": "stdout",
     "output_type": "stream",
     "text": [
      "['known', 'for', 'in', 'and', 'with', 'chain', 'plus', 'space', 'american', 'restaurant', 'setting', 'coffee', 'fare', 'food', 'italian', 'of', 'burgers', 'warm', 'asian', 'bowls', 'casual', 'dishes', 'eatery', 'including', 'lunch', 'mexican', 'served', 'small', 'traditional', 'an', 'cafe', 'chinese', 'classic', 'drinks', 'japanese', 'local', 'mediterranean', 'other', 'south', 'vegetarian', 'bar', 'beers', 'breakfast', 'bright', 'byob', 'cocktails', 'contemporary', 'cozy', 'cuisine', 'extensive', 'fries', 'is', 'joint', 'korean', 'laid', 'meats', 'menu', 'or', 'outpost', 'pizza', 'pizzas', 'popular', 'quaint', 'sandwiches', 'simple', 'stylish', 'sushi', 'tacos', 'to', 'wood', 'bubble', 'chocolate', 'french', 'fresh', 'goods', 'grub', 'hot', 'ingredients', 'intimate', 'it', 'plates', 'prepared', 'ramen', 'relaxed', 'spanish', 'spot', 'storefront', 'such', 'takeout', 'tea', 'thai', 'the', 'upscale', 'whimsical', 'wine', 'your', 'indian', 'irish', 'jamaican', 'vegan']\n",
      "   Restaurant Name  known  for   in       and  with  chain  plus  space  \\\n",
      "0  Tapas Barcelona    0.0  0.0  0.0  0.000000   0.0    0.0   0.0    0.0   \n",
      "1    Lao Sze Chuan    0.0  0.0  0.0  0.263346   0.0    0.0   0.0    0.0   \n",
      "2   5411 Empanadas    0.0  0.0  0.0  0.000000   0.0    0.0   0.0    0.0   \n",
      "\n",
      "   american  ...  thai  the  upscale  whimsical  wine  your  indian  irish  \\\n",
      "0  0.260395  ...   0.0  0.0      0.0        0.0   0.0   0.0     0.0    0.0   \n",
      "1  0.000000  ...   0.0  0.0      0.0        0.0   0.0   0.0     0.0    0.0   \n",
      "2  0.000000  ...   0.0  0.0      0.0        0.0   0.0   0.0     0.0    0.0   \n",
      "\n",
      "   jamaican  vegan  \n",
      "0       0.0    0.0  \n",
      "1       0.0    0.0  \n",
      "2       0.0    0.0  \n",
      "\n",
      "[3 rows x 101 columns]\n"
     ]
    }
   ],
   "source": [
    "# get the 100 most popular words in the Augmented Description column\n",
    "tfidf1 = TfidfVectorizer(max_features=100)\n",
    "tfidf1.fit(rs['Augmented Description'])\n",
    "feature_names = tfidf1.get_feature_names_out()\n",
    "top_words = sorted(zip(tfidf1.idf_, feature_names))[:100]\n",
    "top_words = [word[1] for word in top_words]\n",
    "print(top_words)\n",
    "\n",
    "# create 64 TF-IDF vectors of length 100, one for each restaurant\n",
    "# create a copy of the rs dataframe and reset its index\n",
    "rs_copy = rs.copy().reset_index(drop=True)\n",
    "\n",
    "# create 64 TF-IDF vectors of length 100, one for each restaurant\n",
    "tfidf_vectors = []\n",
    "for i, desc in enumerate(rs_copy['Augmented Description']):\n",
    "    tfidf_scores = {}\n",
    "    for word in top_words:\n",
    "        tfidf_score = tfidf_matrix[i, tfidf1.vocabulary_[word]]\n",
    "        tfidf_scores[word] = tfidf_score\n",
    "    tfidf_vectors.append([rs_copy.loc[i, 'Restaurant Name']] + list(tfidf_scores.values()))\n",
    "\n",
    "df_tfidf_vectors = pd.DataFrame(tfidf_vectors, columns=['Restaurant Name'] + top_words)\n",
    "print(df_tfidf_vectors.head(3))\n"
   ]
  },
  {
   "cell_type": "markdown",
   "id": "c2f853d7",
   "metadata": {},
   "source": [
    "The list of the 100 most popular words in the Augmented Description column is shown above, and the computed TF-IDF score for that word as a 64 TF-IDF vectors of length 100, one for each restaurant is also formed, and I have displayed the first 3 restaurant above."
   ]
  },
  {
   "cell_type": "markdown",
   "id": "4338a41a",
   "metadata": {},
   "source": [
    "### 16"
   ]
  },
  {
   "cell_type": "code",
   "execution_count": 17,
   "id": "74d0ea76",
   "metadata": {},
   "outputs": [
    {
     "name": "stdout",
     "output_type": "stream",
     "text": [
      "Restaurant Name  Tapas Barcelona  Lao Sze Chuan  5411 Empanadas  \\\n",
      "Restaurant Name                                                   \n",
      "Tapas Barcelona         0.000000       0.840362        0.834028   \n",
      "Lao Sze Chuan           0.840362       0.000000        0.975756   \n",
      "5411 Empanadas          0.834028       0.975756        0.000000   \n",
      "\n",
      "Restaurant Name  Hokkaido Ramen  Tomo Japanese Street Food  \\\n",
      "Restaurant Name                                              \n",
      "Tapas Barcelona        0.988324                   0.964442   \n",
      "Lao Sze Chuan          0.989275                   0.991437   \n",
      "5411 Empanadas         0.986613                   0.989311   \n",
      "\n",
      "Restaurant Name  Kuni's Japanese Restaurant   Kansaku  Taco Diablo   Fridas  \\\n",
      "Restaurant Name                                                               \n",
      "Tapas Barcelona                    0.830653  0.957596     0.988848  1.00000   \n",
      "Lao Sze Chuan                      0.886685  0.946900     0.989757  1.00000   \n",
      "5411 Empanadas                     0.972835  0.970692     0.987213  0.96643   \n",
      "\n",
      "Restaurant Name  Edzo's Burger Shop  ...  Pâtisserie Coralie  \\\n",
      "Restaurant Name                      ...                       \n",
      "Tapas Barcelona            0.989877  ...            0.990946   \n",
      "Lao Sze Chuan              0.976595  ...            0.932107   \n",
      "5411 Empanadas             0.933922  ...            0.900309   \n",
      "\n",
      "Restaurant Name  Cozy Noodles and Rice  Nakorn  Prairie Moon  Hecky's BBQ  \\\n",
      "Restaurant Name                                                             \n",
      "Tapas Barcelona               0.891482  1.0000      0.989949     0.985592   \n",
      "Lao Sze Chuan                 0.977654  0.9448      0.951693     0.986766   \n",
      "5411 Empanadas                0.972106  1.0000      0.943416     0.983480   \n",
      "\n",
      "Restaurant Name  Soban Korea  Burger King  Sarah's Brick Oven  \\\n",
      "Restaurant Name                                                 \n",
      "Tapas Barcelona     0.989090     0.982640            0.963974   \n",
      "Lao Sze Chuan       0.989979     0.984055            0.991324   \n",
      "5411 Empanadas      0.907567     0.980096            0.989170   \n",
      "\n",
      "Restaurant Name  Leonidas Cafe Chocolaterie  Evanston Games & Cafe  \n",
      "Restaurant Name                                                     \n",
      "Tapas Barcelona                    0.990783               0.986872  \n",
      "Lao Sze Chuan                      0.978688               0.987942  \n",
      "5411 Empanadas                     0.973397               0.984948  \n",
      "\n",
      "[3 rows x 60 columns]\n"
     ]
    }
   ],
   "source": [
    "# compute the TF-IDF distance matrix\n",
    "tfidf_dist_matrix = cosine_distances(tfidf_matrix)\n",
    "\n",
    "# create a dataframe with the cosine distances and restaurant names as index and columns\n",
    "df_tfidf_dist_matrix = pd.DataFrame(tfidf_dist_matrix, index=rs_copy['Restaurant Name'], columns=rs_copy['Restaurant Name'])\n",
    "\n",
    "# print the dataframe\n",
    "print(df_tfidf_dist_matrix.head(3))"
   ]
  },
  {
   "cell_type": "markdown",
   "id": "9821f2a2",
   "metadata": {},
   "source": [
    "The first 3 rows of the TF-IDF distance matrix with the distance between the TF-IDF vectors for restaurants is shown above."
   ]
  },
  {
   "cell_type": "markdown",
   "id": "4a90cd18",
   "metadata": {},
   "source": [
    "### 17"
   ]
  },
  {
   "cell_type": "code",
   "execution_count": 18,
   "id": "f43ae899",
   "metadata": {},
   "outputs": [
    {
     "name": "stderr",
     "output_type": "stream",
     "text": [
      "Some weights of the model checkpoint at bert-base-uncased were not used when initializing BertModel: ['cls.predictions.transform.LayerNorm.weight', 'cls.seq_relationship.weight', 'cls.predictions.transform.LayerNorm.bias', 'cls.predictions.transform.dense.bias', 'cls.seq_relationship.bias', 'cls.predictions.bias', 'cls.predictions.transform.dense.weight', 'cls.predictions.decoder.weight']\n",
      "- This IS expected if you are initializing BertModel from the checkpoint of a model trained on another task or with another architecture (e.g. initializing a BertForSequenceClassification model from a BertForPreTraining model).\n",
      "- This IS NOT expected if you are initializing BertModel from the checkpoint of a model that you expect to be exactly identical (initializing a BertForSequenceClassification model from a BertForSequenceClassification model).\n"
     ]
    },
    {
     "name": "stdout",
     "output_type": "stream",
     "text": [
      "                 Tapas Barcelona  Lao Sze Chuan  5411 Empanadas  \\\n",
      "Tapas Barcelona         0.000000       0.015169        0.013951   \n",
      "Lao Sze Chuan           0.015169       0.000000        0.012449   \n",
      "5411 Empanadas          0.013951       0.012449        0.000000   \n",
      "\n",
      "                 Hokkaido Ramen  Tomo Japanese Street Food  \\\n",
      "Tapas Barcelona        0.018831                   0.014805   \n",
      "Lao Sze Chuan          0.011399                   0.014912   \n",
      "5411 Empanadas         0.015158                   0.007110   \n",
      "\n",
      "                 Kuni's Japanese Restaurant   Kansaku  Taco Diablo    Fridas  \\\n",
      "Tapas Barcelona                    0.023336  0.015831     0.011077  0.007787   \n",
      "Lao Sze Chuan                      0.010407  0.012575     0.012718  0.013042   \n",
      "5411 Empanadas                     0.023593  0.003776     0.003483  0.008620   \n",
      "\n",
      "                 Edzo's Burger Shop  ...  Pâtisserie Coralie  \\\n",
      "Tapas Barcelona            0.008817  ...            0.011240   \n",
      "Lao Sze Chuan              0.012956  ...            0.007956   \n",
      "5411 Empanadas             0.008014  ...            0.016668   \n",
      "\n",
      "                 Cozy Noodles and Rice    Nakorn  Prairie Moon  Hecky's BBQ  \\\n",
      "Tapas Barcelona               0.013105  0.010155      0.008740     0.015954   \n",
      "Lao Sze Chuan                 0.012939  0.025369      0.008228     0.020336   \n",
      "5411 Empanadas                0.013530  0.022065      0.008266     0.005125   \n",
      "\n",
      "                 Soban Korea  Burger King  Sarah's Brick Oven  \\\n",
      "Tapas Barcelona     0.020201     0.015521            0.016169   \n",
      "Lao Sze Chuan       0.026945     0.014226            0.013827   \n",
      "5411 Empanadas      0.008354     0.004741            0.006008   \n",
      "\n",
      "                 Leonidas Cafe Chocolaterie  Evanston Games & Cafe  \n",
      "Tapas Barcelona                    0.023723               0.018790  \n",
      "Lao Sze Chuan                      0.009274               0.019204  \n",
      "5411 Empanadas                     0.016647               0.007384  \n",
      "\n",
      "[3 rows x 60 columns]\n"
     ]
    }
   ],
   "source": [
    "# Load pre-trained BERT model\n",
    "tokenizer = BertTokenizer.from_pretrained('bert-base-uncased')\n",
    "bert_model = BertModel.from_pretrained('bert-base-uncased')\n",
    "\n",
    "# Define function to embed restaurant description using BERT\n",
    "def embed_bert(text):\n",
    "    inputs = tokenizer.encode_plus(text, add_special_tokens=True, return_tensors='pt')\n",
    "    outputs = bert_model(inputs['input_ids'], attention_mask=inputs['attention_mask'])[1]\n",
    "    return outputs.detach().numpy()\n",
    "\n",
    "# Embed all restaurant descriptions\n",
    "res_des = rs[\"Augmented Description\"].tolist()\n",
    "res_names = rs[\"Restaurant Name\"].tolist()\n",
    "res_emb = np.array([embed_bert(d) for d in res_des])\n",
    "\n",
    "# Compute Embedding-Distance matrix\n",
    "embedding_matrix = cosine_distances(res_emb.reshape(len(res_emb), -1))\n",
    "embedding_df = pd.DataFrame(embedding_matrix, columns=res_names, index=res_names)\n",
    "print(embedding_df.head(3))"
   ]
  },
  {
   "cell_type": "markdown",
   "id": "e260d3ef",
   "metadata": {},
   "source": [
    "The first 3 rows of the Embedding-Distance matrix with the distance between embedding vectors of restaurants is shown above."
   ]
  },
  {
   "cell_type": "markdown",
   "id": "9067e181",
   "metadata": {},
   "source": [
    "### 18"
   ]
  },
  {
   "cell_type": "code",
   "execution_count": 19,
   "id": "d6d56d4e",
   "metadata": {},
   "outputs": [
    {
     "name": "stdout",
     "output_type": "stream",
     "text": [
      "Jaccard: 3.9656301851894824\n",
      "TF-IDF: 3.819726211811076\n",
      "Embedding-Distance: 3.8577545115602216\n"
     ]
    }
   ],
   "source": [
    "# 13 Jaccard\n",
    "sort = jaccard_df.loc['Lao Sze Chuan'].sort_values(ascending=False)\n",
    "krec = sort[sort > sort.mean()]\n",
    "krec_rate = rr[rr['Restaurant Name'].isin(krec.index)]\n",
    "res_rate = krec_rate.groupby('Restaurant Name')['Rating'].mean()\n",
    "print('Jaccard:', res_rate.mean())\n",
    "\n",
    "# 16 TF-IDF\n",
    "sort = df_tfidf_dist_matrix.loc['Lao Sze Chuan'].sort_values(ascending=False)\n",
    "krec = sort[sort > sort.mean()]\n",
    "krec_rate = rr[rr['Restaurant Name'].isin(krec.index)]\n",
    "res_rate = krec_rate.groupby('Restaurant Name')['Rating'].mean()\n",
    "print('TF-IDF:', res_rate.mean())\n",
    "\n",
    "# 17 Embedding-Distance\n",
    "sort = embedding_df.loc['Lao Sze Chuan'].sort_values(ascending=False)\n",
    "krec = sort[sort > sort.mean()]\n",
    "krec_rate = rr[rr['Restaurant Name'].isin(krec.index)]\n",
    "res_rate = krec_rate.groupby('Restaurant Name')['Rating'].mean()\n",
    "print('Embedding-Distance:', res_rate.mean())"
   ]
  },
  {
   "cell_type": "markdown",
   "id": "662488e7",
   "metadata": {},
   "source": [
    "Based on matrices from question 13, 16, 17, I have tried to do k recommendations as the method mentioned in the lecture notes for restaurant 'Lao Sze Chuan' based on these matrices. Since the mean rating are all assigned as a value of 1 as they are greater than 3, I calculated the actual values without bounded here, and we can see that these mean scores are so close, so it is really hard to tell which one is better, but Jaccard is a little better than TF-IDF and Embedding-Distance for recommendation here."
   ]
  },
  {
   "cell_type": "markdown",
   "id": "9be9ef79",
   "metadata": {},
   "source": [
    "## Collaborative Filtering\n",
    "### 19"
   ]
  },
  {
   "cell_type": "code",
   "execution_count": 20,
   "id": "a8e2e17d",
   "metadata": {},
   "outputs": [
    {
     "name": "stdout",
     "output_type": "stream",
     "text": [
      "        Reviewer Name                                         vector\n",
      "0         Connie Neal               [0.0, 0.0, 234.0, 1.0, 2.0, 0.0]\n",
      "1   Jacquelyn Rigatti  [0.0, 0.0, 202.65272591486183, 2.0, 2.0, 0.0]\n",
      "12        Sarah Hardy               [0.0, 0.0, 243.0, 3.0, 1.0, 0.0]\n",
      "13  Jennifer Armagost  [0.0, 0.0, 202.65272591486183, 2.0, 1.0, 0.0]\n",
      "14       Ruth Waynick               [1.0, 0.0, 135.0, 2.0, 1.0, 0.0]\n"
     ]
    },
    {
     "name": "stderr",
     "output_type": "stream",
     "text": [
      "/var/folders/6m/72gsx1kn1cd5rj99dq1_44yh0000gn/T/ipykernel_15932/1769911310.py:9: SettingWithCopyWarning: \n",
      "A value is trying to be set on a copy of a slice from a DataFrame.\n",
      "Try using .loc[row_indexer,col_indexer] = value instead\n",
      "\n",
      "See the caveats in the documentation: https://pandas.pydata.org/pandas-docs/stable/user_guide/indexing.html#returning-a-view-versus-a-copy\n",
      "  features['Has Children?'] = features['Has Children?'].apply(lambda x: 1 if x == 'Yes' else 0)\n",
      "/var/folders/6m/72gsx1kn1cd5rj99dq1_44yh0000gn/T/ipykernel_15932/1769911310.py:10: SettingWithCopyWarning: \n",
      "A value is trying to be set on a copy of a slice from a DataFrame.\n",
      "Try using .loc[row_indexer,col_indexer] = value instead\n",
      "\n",
      "See the caveats in the documentation: https://pandas.pydata.org/pandas-docs/stable/user_guide/indexing.html#returning-a-view-versus-a-copy\n",
      "  features['Vegetarian?'] = features['Vegetarian?'].apply(lambda x: 1 if x == 'Yes' else 0)\n",
      "/var/folders/6m/72gsx1kn1cd5rj99dq1_44yh0000gn/T/ipykernel_15932/1769911310.py:11: SettingWithCopyWarning: \n",
      "A value is trying to be set on a copy of a slice from a DataFrame.\n",
      "Try using .loc[row_indexer,col_indexer] = value instead\n",
      "\n",
      "See the caveats in the documentation: https://pandas.pydata.org/pandas-docs/stable/user_guide/indexing.html#returning-a-view-versus-a-copy\n",
      "  features['Preferred Mode of Transport'] = features['Preferred Mode of Transport'].apply(lambda x: 1 if x == 'Car Owner' else (2 if x == 'On Foot' else 3))\n",
      "/var/folders/6m/72gsx1kn1cd5rj99dq1_44yh0000gn/T/ipykernel_15932/1769911310.py:12: SettingWithCopyWarning: \n",
      "A value is trying to be set on a copy of a slice from a DataFrame.\n",
      "Try using .loc[row_indexer,col_indexer] = value instead\n",
      "\n",
      "See the caveats in the documentation: https://pandas.pydata.org/pandas-docs/stable/user_guide/indexing.html#returning-a-view-versus-a-copy\n",
      "  features['Average Amount Spent'] = features['Average Amount Spent'].apply(lambda x: 1 if x == 'Low' else (2 if x == 'Medium' else 3))\n",
      "/var/folders/6m/72gsx1kn1cd5rj99dq1_44yh0000gn/T/ipykernel_15932/1769911310.py:13: SettingWithCopyWarning: \n",
      "A value is trying to be set on a copy of a slice from a DataFrame.\n",
      "Try using .loc[row_indexer,col_indexer] = value instead\n",
      "\n",
      "See the caveats in the documentation: https://pandas.pydata.org/pandas-docs/stable/user_guide/indexing.html#returning-a-view-versus-a-copy\n",
      "  features['Northwestern Student?'] = features['Northwestern Student?'].apply(lambda x: 1 if x == 'Yes' else 0)\n",
      "/var/folders/6m/72gsx1kn1cd5rj99dq1_44yh0000gn/T/ipykernel_15932/1769911310.py:17: SettingWithCopyWarning: \n",
      "A value is trying to be set on a copy of a slice from a DataFrame.\n",
      "Try using .loc[row_indexer,col_indexer] = value instead\n",
      "\n",
      "See the caveats in the documentation: https://pandas.pydata.org/pandas-docs/stable/user_guide/indexing.html#returning-a-view-versus-a-copy\n",
      "  features['vector'] = features[feas].values.tolist()\n"
     ]
    }
   ],
   "source": [
    "# Extract the numeric columns\n",
    "cols = ['Reviewer Name', 'Has Children?', 'Vegetarian?', 'Weight (lb)', 'Preferred Mode of Transport', 'Average Amount Spent', 'Northwestern Student?']\n",
    "rr_numeric = rr[cols]\n",
    "\n",
    "# Create a new DataFrame with unique reviewers\n",
    "features = rr_numeric.drop_duplicates(subset=['Reviewer Name'])\n",
    "\n",
    "# Calculate the required features for each reviewer\n",
    "features['Has Children?'] = features['Has Children?'].apply(lambda x: 1 if x == 'Yes' else 0)\n",
    "features['Vegetarian?'] = features['Vegetarian?'].apply(lambda x: 1 if x == 'Yes' else 0)\n",
    "features['Preferred Mode of Transport'] = features['Preferred Mode of Transport'].apply(lambda x: 1 if x == 'Car Owner' else (2 if x == 'On Foot' else 3))\n",
    "features['Average Amount Spent'] = features['Average Amount Spent'].apply(lambda x: 1 if x == 'Low' else (2 if x == 'Medium' else 3))\n",
    "features['Northwestern Student?'] = features['Northwestern Student?'].apply(lambda x: 1 if x == 'Yes' else 0)\n",
    "\n",
    "# Combine all the features into a vector for each unique reviewer\n",
    "feas = ['Has Children?', 'Vegetarian?', 'Weight (lb)', 'Preferred Mode of Transport', 'Average Amount Spent', 'Northwestern Student?']\n",
    "features['vector'] = features[feas].values.tolist()\n",
    "\n",
    "# Print the first 5 vectors\n",
    "print(features[:5][['Reviewer Name','vector']])"
   ]
  },
  {
   "cell_type": "markdown",
   "id": "997d7eb5",
   "metadata": {},
   "source": [
    "Considering double counting, which means many reviewers have reviewed multiple restaurants, I have dropped all duplicated reviews from a same reviewers. Then I have formed a vector including numeric representations of traits 'Has Children?', 'Vegetarian?', 'Weight (lb)', 'Preferred Mode of Transport', 'Average Amount Spent', and 'Northwestern Student?' for each reviewer. Also, I have printed out the first 5 vectors above. Right here 1 in the first element means the reviewer has children, 0 no children; 1 in the second element means the reviewer is vegetarian, 0 not; the 3rd element represents the Weight of the reviewer; the 4th element represents the Preferred Mode of Transport, 1 if the review is a car owner, 2 if the reviewer prefers on foot, 3 if the reviewer prefers public transit; 1 in the 5th element means the reviewer's Average Amount Spent in the restaurant is low, 2 medium, and 3 high; 1 in the 5th element means the review is Northwestern student, 0 not."
   ]
  },
  {
   "cell_type": "markdown",
   "id": "8d5d1e70",
   "metadata": {},
   "source": [
    "### 20"
   ]
  },
  {
   "cell_type": "code",
   "execution_count": 21,
   "id": "d770aa93",
   "metadata": {},
   "outputs": [
    {
     "name": "stdout",
     "output_type": "stream",
     "text": [
      "Index(['Nakorn', 'Kabul House', 'Kuni's Japanese Restaurant', 'Zentli'], dtype='object', name='Restaurant Name')\n"
     ]
    }
   ],
   "source": [
    "# Define a function to compute the distances between the input user and all other users\n",
    "def compute_distances(user):\n",
    "    user_vector = np.array(features[features['Reviewer Name'] == user]['vector'].values.tolist()[0])\n",
    "    distances = []\n",
    "    for index, vector in features.iterrows():\n",
    "        if vector['Reviewer Name'] != user:\n",
    "            vector_array = np.array(vector['vector'])\n",
    "            distance = np.linalg.norm(user_vector - vector_array)\n",
    "            distances.append((vector['Reviewer Name'], distance))\n",
    "    distances.sort(key=lambda x: x[1])\n",
    "    return distances\n",
    "\n",
    "def recomm(user, k):\n",
    "    distances = compute_distances(user)\n",
    "    sim = [u[0] for u in distances[:5]]\n",
    "    krec_data = rr[rr['Reviewer Name'].isin(sim)]\n",
    "    print(krec_data.groupby('Restaurant Name')['Rating'].mean().sort_values().head(k).index)\n",
    "recomm('Nancy Hayes', 5)"
   ]
  },
  {
   "cell_type": "markdown",
   "id": "49f9569e",
   "metadata": {},
   "source": [
    "Based on the vectors from the previous step, I have written a function that takes a user and computes the distance from that user to every other user, and based on this function, I have created a reccommendation algorithm that takes a user andnumber k and outputs k reccommendation made by a similar user, include the user and the suggested reccommendations in your write-up. What is the distance between the user and the user that you used to make reccommendations?"
   ]
  },
  {
   "cell_type": "markdown",
   "id": "a85bb2af",
   "metadata": {},
   "source": [
    "### 21"
   ]
  },
  {
   "cell_type": "code",
   "execution_count": 22,
   "id": "97d2bcae",
   "metadata": {},
   "outputs": [
    {
     "name": "stdout",
     "output_type": "stream",
     "text": [
      "                  Barn Steakhouse Brothers K Coffeehouse Clarkes Off Campus  \\\n",
      "Jacquelyn Rigatti             5.0                    4.0                5.0   \n",
      "Kim Hamilton                  5.0                    5.0                5.0   \n",
      "Katina Whelton                5.0                    5.0                5.0   \n",
      "\n",
      "                  Edzo's Burger Shop Elephant & Vine Graduate Homestead Room  \\\n",
      "Jacquelyn Rigatti                5.0             4.0                     2.0   \n",
      "Kim Hamilton                     5.0             5.0                     5.0   \n",
      "Katina Whelton                   5.0             5.0                     5.0   \n",
      "\n",
      "                  Lao Sze Chuan Panino's Pizzeria Philz Coffee  \\\n",
      "Jacquelyn Rigatti           3.0               2.0          4.0   \n",
      "Kim Hamilton                5.0               5.0          5.0   \n",
      "Katina Whelton              5.0               5.0          5.0   \n",
      "\n",
      "                  Mumbai Indian Grill  ... Zentli Peppercorns Kitchen  \\\n",
      "Jacquelyn Rigatti                 0.0  ...    5.0                 0.0   \n",
      "Kim Hamilton                      1.0  ...    5.0                 5.0   \n",
      "Katina Whelton                    0.0  ...    5.0                 5.0   \n",
      "\n",
      "                  Prairie Moon Taste of Nepal Pâtisserie Coralie Le Peep  \\\n",
      "Jacquelyn Rigatti          4.0            3.0                0.0     5.0   \n",
      "Kim Hamilton               4.0            3.0                0.0     5.0   \n",
      "Katina Whelton             4.0            3.0                0.0     5.0   \n",
      "\n",
      "                  Kung Fu Tea Evanston Games & Cafe Soban Korea Clare's Korner  \n",
      "Jacquelyn Rigatti         4.0                   0.0         0.0            0.0  \n",
      "Kim Hamilton              4.0                   0.0         0.0            0.0  \n",
      "Katina Whelton            4.0                   0.0         0.0            0.0  \n",
      "\n",
      "[3 rows x 59 columns]\n"
     ]
    }
   ],
   "source": [
    "# find a user j who has given at least 4 reviews\n",
    "rr_new = rr[['Reviewer Name', 'Restaurant Name', 'Rating']]\n",
    "rev_counts = rr_new['Reviewer Name'].value_counts()\n",
    "rev_4 = rev_counts[rev_counts >= 4].index\n",
    "rr_new = rr_new[rr_new['Reviewer Name'].isin(rev_4)]\n",
    "res_dict = {name: i for i, name in enumerate(rr_new['Restaurant Name'].unique())}\n",
    "rev_dict = {name: i for i, name in enumerate(rr_new['Reviewer Name'].unique())}\n",
    "\n",
    "# form a 64 dimensional vector where entry i is the user's review of restaurant i\n",
    "vector_rv = np.empty(59)\n",
    "\n",
    "reviewer_dic = {}\n",
    "for reviewer, group in rr_new.groupby('Reviewer Name'):\n",
    "    vector_rv = np.empty(59)\n",
    "    for _, row in group.iterrows():\n",
    "        index = res_dict[row['Restaurant Name']]\n",
    "        vector_rv[index] = row['Rating']\n",
    "    vector_rv[np.isnan(vector_rv)] = np.nanmean(vector_rv)\n",
    "    reviewer_dic[rev_dict[reviewer]] = vector_rv\n",
    "\n",
    "df = pd.DataFrame(index=rev_dict.keys(), columns=res_dict.keys())\n",
    "\n",
    "for reviewer, vector in reviewer_dic.items():\n",
    "    df.iloc[reviewer] = vector\n",
    "\n",
    "print(df.head(3))"
   ]
  },
  {
   "cell_type": "markdown",
   "id": "e6ecbb5b",
   "metadata": {},
   "source": [
    "We have selected users who have given at least 4 reviews. Then I have formed a 64 dimensioanl vector where entry i is the user's review of restaurant i here. This vector also have many blank entries and I have filled them with the mean of their corresponding row, since the mean of each row is based on the rating habits of each reviewer. And the first 3 rows of the final vector is shown above."
   ]
  },
  {
   "cell_type": "markdown",
   "id": "e3db9a95",
   "metadata": {},
   "source": [
    "### 22"
   ]
  },
  {
   "cell_type": "code",
   "execution_count": 23,
   "id": "230d08e1",
   "metadata": {},
   "outputs": [
    {
     "name": "stdout",
     "output_type": "stream",
     "text": [
      "Index(['Zentli', 'Trattoria Demi', 'Clare's Korner', 'Lao Sze Chuan',\n",
      "       'Evanston Chicken Shack'],\n",
      "      dtype='object', name='Restaurant Name')\n"
     ]
    }
   ],
   "source": [
    "# compute cosine similarity matrix\n",
    "cos_sim_matrix = cosine_similarity(df.values)\n",
    "\n",
    "# find similar users\n",
    "def find_sim(target_user, k):\n",
    "    target_user_index = df.index.get_loc(target_user)\n",
    "    similar_users_indices = np.argsort(-cos_sim_matrix[target_user_index])[:5]\n",
    "    similar_users = df.iloc[similar_users_indices].index.tolist()\n",
    "    krec_data = rr[rr['Reviewer Name'].isin(similar_users)]\n",
    "    print(krec_data.groupby('Restaurant Name')['Rating'].mean().sort_values().head(k).index)\n",
    "\n",
    "find_sim('Nancy Hayes', 5)"
   ]
  },
  {
   "cell_type": "markdown",
   "id": "57872ba7",
   "metadata": {},
   "source": [
    "I have computed the 64-dimensional review vector for every user above. Now I have written the function find_sim() that takes a user and finds other users with similar review vectors. Also, I have tried to find the similar user of the reviewer 'Jacquelyn Rigatti', and the similar users are 'James Gutierrez', 'Jennifer Richardson', 'Ione Tollison', 'Gloria Donato', 'George Varela'."
   ]
  },
  {
   "cell_type": "markdown",
   "id": "9fada685",
   "metadata": {},
   "source": [
    "### 23"
   ]
  },
  {
   "cell_type": "code",
   "execution_count": 24,
   "id": "f345bf16",
   "metadata": {},
   "outputs": [
    {
     "name": "stdout",
     "output_type": "stream",
     "text": [
      "mean rating for restaurant in 20: 4.227667153818049\n",
      "mean rating for restaurant in 22: 2.950432815266575\n"
     ]
    }
   ],
   "source": [
    "# 20\n",
    "res = ['Nakorn', 'Kabul House', \"Kuni's Japanese Restaurant\", 'Zentli']\n",
    "res_data = rr[rr['Restaurant Name'].isin(res)]\n",
    "rr_mean = res_data.groupby('Restaurant Name')['Rating'].mean()\n",
    "print('mean rating for restaurant in 20:', rr_mean.mean())\n",
    "\n",
    "\n",
    "# 22\n",
    "res2 = ['Zentli', 'Trattoria Demi', \"Clare's Korner\", 'Lao Sze Chuan', 'Evanston Chicken Shack']\n",
    "res2_data = rr[rr['Restaurant Name'].isin(res2)]\n",
    "rr2_mean = res2_data.groupby('Restaurant Name')['Rating'].mean()\n",
    "print('mean rating for restaurant in 22:', rr2_mean.mean())"
   ]
  },
  {
   "cell_type": "markdown",
   "id": "dab411b1",
   "metadata": {},
   "source": [
    "Based on the mean rating for 5 restaurants recommended by the top 5 similar user of these two algorithm for 'Nancy Hayes', we can see they the mean rating for these recommended restaurants in 20 is much higher than that in 22. Thus, we can see that the quality of recommendations made based on demographic data matrix is much better than user's review here."
   ]
  },
  {
   "cell_type": "markdown",
   "id": "fbea6c6e",
   "metadata": {},
   "source": [
    "## Predictive modeling\n",
    "### 24"
   ]
  },
  {
   "cell_type": "code",
   "execution_count": 25,
   "id": "4305613e",
   "metadata": {},
   "outputs": [
    {
     "name": "stdout",
     "output_type": "stream",
     "text": [
      "[2.90163765]\n",
      "error:  [0.90163765]\n"
     ]
    }
   ],
   "source": [
    "# a linear model that takes demographic data, along with the cusine type for a restaurant\n",
    "X = merge[['Birth Year']]\n",
    "y = merge['Rating']\n",
    "\n",
    "cat_cols = ['Marital Status', 'Vegetarian?', 'Cuisine']\n",
    "enc = OneHotEncoder(handle_unknown='ignore')\n",
    "X_cat = pd.DataFrame(enc.fit_transform(merge[cat_cols]).toarray(), columns=enc.get_feature_names_out(cat_cols))\n",
    "\n",
    "X = pd.concat([X, X_cat], axis=1)\n",
    "\n",
    "model = LinearRegression()\n",
    "model.fit(X, y)\n",
    "\n",
    "# predict the restaurant score with row 8\n",
    "new_data = pd.DataFrame({'Birth Year': [1998], 'Marital Status': ['Single'], 'Vegetarian?': ['No'], 'Cuisine': ['American']})\n",
    "new_cat = pd.DataFrame(enc.transform(new_data[cat_cols]).toarray(), columns=enc.get_feature_names_out(cat_cols))\n",
    "new_data = pd.concat([new_data[['Birth Year']], new_cat], axis=1)\n",
    "prediction = model.predict(new_data)\n",
    "print(prediction)\n",
    "print('error: ', prediction-2)"
   ]
  },
  {
   "cell_type": "markdown",
   "id": "000c5ec0",
   "metadata": {},
   "source": [
    "The linear model that takes demographic data, along with the cusine type for a restaurant is fitted, and I have tried to predict the restaurant score provided by a single non-vegetarian reviewer born in 1998 for American cuisine, which corresponds to the value in row 8 from the review sheet. The predicted rating for this is 2.90163765, while the actual rating is 2, so there is an error of 0.90163765."
   ]
  },
  {
   "cell_type": "markdown",
   "id": "369c45ae",
   "metadata": {},
   "source": [
    "### 25"
   ]
  },
  {
   "cell_type": "code",
   "execution_count": 26,
   "id": "acd2d984",
   "metadata": {},
   "outputs": [
    {
     "name": "stdout",
     "output_type": "stream",
     "text": [
      "RMSE: 1.3256164197966678\n",
      "[2.7980957]\n",
      "error:  [0.7980957]\n"
     ]
    },
    {
     "name": "stderr",
     "output_type": "stream",
     "text": [
      "/Users/ellenh/anaconda3/lib/python3.10/site-packages/sklearn/base.py:432: UserWarning: X has feature names, but LinearRegression was fitted without feature names\n",
      "  warnings.warn(\n"
     ]
    }
   ],
   "source": [
    "# Evaluate linear model using a train/test split\n",
    "X = merge[['Birth Year', 'Marital Status', 'Vegetarian?', 'Cuisine']]\n",
    "y = merge['Rating']\n",
    "\n",
    "X_train, X_test, y_train, y_test = train_test_split(X, y, test_size=0.2, random_state=0)\n",
    "\n",
    "cat_cols = ['Marital Status', 'Vegetarian?', 'Cuisine']\n",
    "enc = OneHotEncoder(handle_unknown='ignore')\n",
    "enc.fit(X_train[cat_cols])\n",
    "X_train_enc = enc.transform(X_train[cat_cols]).toarray()\n",
    "X_test_enc = enc.transform(X_test[cat_cols]).toarray()\n",
    "\n",
    "X_train_com = np.concatenate((X_train[['Birth Year']], X_train_enc), axis=1)\n",
    "X_test_com = np.concatenate((X_test[['Birth Year']], X_test_enc), axis=1)\n",
    "\n",
    "model = LinearRegression()\n",
    "model.fit(X_train_com, y_train)\n",
    "\n",
    "# the error of model\n",
    "y_pred = model.predict(X_test_com)\n",
    "rmse = np.sqrt(mean_squared_error(y_test, y_pred))\n",
    "print('RMSE:', rmse)\n",
    "\n",
    "# predict the restaurant score with row 8\n",
    "new_data = pd.DataFrame({'Birth Year': [1998], 'Marital Status': ['Single'], 'Vegetarian?': ['No'], 'Cuisine': ['American']})\n",
    "new_cat = pd.DataFrame(enc.transform(new_data[cat_cols]).toarray(), columns=enc.get_feature_names_out(cat_cols))\n",
    "new_data = pd.concat([new_data[['Birth Year']], new_cat], axis=1)\n",
    "prediction = model.predict(new_data)\n",
    "print(prediction)\n",
    "print('error: ', prediction-2)"
   ]
  },
  {
   "cell_type": "markdown",
   "id": "a9c3ca22",
   "metadata": {},
   "source": [
    "Again, I have fitted the linear model using a train/test split in this problem. By testing with the test data, I have calculated the RMSE of the model 1.3256164197966678. Then I have tried to predict the restaurant score provided by a single non-vegetarian reviewer born in 1998 for American cuisine, which corresponds to the value in row 8 from the review sheet same as problem 24. The predicted rating for this is 2.7980957, while the actual rating is 2, so there is an error of 0.7980957, which is smaller than the model in the last problem, so it is more accurate. The reason for a better performance with train/split can be taht it helps to avoid overfitting and allows us to assess the generalization performance of the model."
   ]
  },
  {
   "cell_type": "markdown",
   "id": "f0de8147",
   "metadata": {},
   "source": [
    "### 26"
   ]
  },
  {
   "cell_type": "code",
   "execution_count": 37,
   "id": "cdd69538",
   "metadata": {},
   "outputs": [
    {
     "name": "stdout",
     "output_type": "stream",
     "text": [
      "RMSE (Lasso): 1.3690963105026603 \n",
      "\n",
      "Coefficients (Lasso):\n",
      "Birth Year 0.0027477113672791246\n",
      "Marital Status_Married -0.0\n",
      "Marital Status_Single -0.0\n",
      "Marital Status_nan 0.0\n",
      "Vegetarian?_No -0.0\n",
      "Vegetarian?_nan -0.0\n"
     ]
    }
   ],
   "source": [
    "# Add an L1 penalty to the lienar regression model\n",
    "alpha = 0.1  # Set the strength of the L1 penalty\n",
    "lasso = Lasso(alpha=alpha)\n",
    "lasso.fit(X_train_com, y_train)\n",
    "\n",
    "# Compare the test-set results with a standard linear model\n",
    "y_pred = lasso.predict(X_test_com)\n",
    "rmse = np.sqrt(mean_squared_error(y_test, y_pred))\n",
    "print('RMSE (Lasso):', rmse, '\\n')\n",
    "\n",
    "feature_names = ['Birth Year'] + list(enc.get_feature_names_out(cat_cols))\n",
    "print('Coefficients (Lasso):')\n",
    "for name, coef in zip(feature_names, lasso.coef_):\n",
    "    print(name, coef)"
   ]
  },
  {
   "cell_type": "markdown",
   "id": "e49822a6",
   "metadata": {},
   "source": [
    "The RMSE based on this linear regression model with L1 penalty is 1.3680825052091492, which is larger than the RMSE 1.3256164197966678 of the standard linear regression model in question 25, shows the standard linear regression model is better and more accurate, but there is no much difference.\n",
    "In this model, we can see that only the \"Birth Year\" feature has a non-zero coefficient, indicating that it is the only feature that is selected on by this L1 model and it is predictive of review score and its weight of the linear model is large. The other features have a coefficient of 0, indicating that they are not predictive of review score. "
   ]
  },
  {
   "cell_type": "markdown",
   "id": "119d79e1",
   "metadata": {},
   "source": [
    "### 27"
   ]
  },
  {
   "cell_type": "code",
   "execution_count": 28,
   "id": "8f5be31c",
   "metadata": {},
   "outputs": [
    {
     "name": "stdout",
     "output_type": "stream",
     "text": [
      "RMSE: 1.2310567807320958\n"
     ]
    }
   ],
   "source": [
    "# Use embedding vector of 'Review Text' to predict the review score with a linear model\n",
    "vectorizer = TfidfVectorizer()\n",
    "X = vectorizer.fit_transform(rr['Review Text'].astype(str))\n",
    "y = rr['Rating']\n",
    "X_train, X_test, y_train, y_test = train_test_split(X, y, test_size=0.2, random_state=0)\n",
    "\n",
    "model = LinearRegression()\n",
    "model.fit(X_train, y_train)\n",
    "\n",
    "# predict the review score with a linear model\n",
    "y_pred = model.predict(X_test)\n",
    "\n",
    "rmse = np.sqrt(mean_squared_error(y_test, y_pred))\n",
    "print('RMSE:', rmse)"
   ]
  },
  {
   "cell_type": "markdown",
   "id": "6f13a26d",
   "metadata": {},
   "source": [
    "Considering the column 'Review Text', I have Embed the review text into a vector with TF-IDF and used this vector to predict the review score with a linear model fitted above. And based on this model, I used train/split to get the RMSE of the model 1.2310567807320958, which is smaller than both of these linear models fitted above, so it is more accurate."
   ]
  },
  {
   "cell_type": "markdown",
   "id": "014240f7",
   "metadata": {},
   "source": [
    "### 28"
   ]
  },
  {
   "cell_type": "code",
   "execution_count": 29,
   "id": "ba625480",
   "metadata": {},
   "outputs": [
    {
     "name": "stdout",
     "output_type": "stream",
     "text": [
      "[1.23463498]\n",
      "error:  [-0.76536502]\n"
     ]
    },
    {
     "name": "stderr",
     "output_type": "stream",
     "text": [
      "/Users/ellenh/anaconda3/lib/python3.10/site-packages/sklearn/base.py:432: UserWarning: X has feature names, but LinearRegression was fitted without feature names\n",
      "  warnings.warn(\n"
     ]
    }
   ],
   "source": [
    "# a linear model that takes demographic data, along with the cusine type for a restaurant\n",
    "X = merge[['Birth Year']]\n",
    "y = merge['Rating']\n",
    "vectorizer = TfidfVectorizer()\n",
    "x_rev = vectorizer.fit_transform(merge['Review Text'].astype(str))\n",
    "\n",
    "cat_cols = ['Marital Status', 'Vegetarian?', 'Cuisine']\n",
    "enc = OneHotEncoder(handle_unknown='ignore')\n",
    "X_cat = pd.DataFrame(enc.fit_transform(merge[cat_cols]).toarray(), columns=enc.get_feature_names_out(cat_cols))\n",
    "\n",
    "X = scipy.sparse.hstack([X, X_cat, x_rev])\n",
    "\n",
    "model = LinearRegression()\n",
    "model.fit(X, y)\n",
    "\n",
    "# predict the restaurant score with row 8\n",
    "new_data = pd.DataFrame({'Birth Year': [1998], 'Marital Status': ['Single'], 'Vegetarian?': ['No'], 'Cuisine': ['American'], 'Review Text': ['Good service, beautiful interior but the food, unfortunately, wasn’t very good.']})\n",
    "new_x_rev = vectorizer.transform(new_data['Review Text'].astype(str))\n",
    "new_cat = pd.DataFrame(enc.transform(new_data[cat_cols]).toarray(), columns=enc.get_feature_names_out(cat_cols))\n",
    "new_data = pd.concat([new_data[['Birth Year']], new_cat, pd.DataFrame(new_x_rev.toarray())], axis=1)\n",
    "new_data.columns = new_data.columns.astype(str)\n",
    "\n",
    "prediction = model.predict(new_data)\n",
    "print(prediction)\n",
    "print('error: ', prediction-2)"
   ]
  },
  {
   "cell_type": "markdown",
   "id": "946d7eca",
   "metadata": {},
   "source": [
    "I have included the vector for the embedded review text from step 27 here to fit a new model with demographic data, review texts, along with the cusine type for a restaurant. Compare to RMSE 1.3256164197966678 of the model in step 24 and 25, we get an smaller RMSE of 1.23463498 in this model with the embedded review text, so we can say that including the embdeed review text improves the predictive power of the model."
   ]
  },
  {
   "cell_type": "markdown",
   "id": "1c22ebda",
   "metadata": {},
   "source": [
    "### 29"
   ]
  },
  {
   "cell_type": "code",
   "execution_count": 30,
   "id": "e37eb040",
   "metadata": {},
   "outputs": [
    {
     "name": "stdout",
     "output_type": "stream",
     "text": [
      "Columns with missing values: Index(['Marital Status', 'Vegetarian?'], dtype='object')\n",
      "[4.57204625]\n",
      "error:  [0.57204625]\n"
     ]
    }
   ],
   "source": [
    "rr_c = pd.read_excel('RestaurantReviews.xlsx', sheet_name='Reviews')\n",
    "coffee_shops = ['Philz Coffee', 'Brothers K Coffeehouse', 'Evanston Games & Cafe']\n",
    "coffee_data = rr_c[rr_c['Restaurant Name'].isin(coffee_shops)]\n",
    "coffee_data = coffee_data[['Birth Year', 'Marital Status', 'Vegetarian?', 'Rating']]\n",
    "\n",
    "missing = coffee_data.columns[coffee_data.isnull().any()]\n",
    "print('Columns with missing values:', missing)\n",
    "rr_c['Vegetarian?'] = rr_c['Vegetarian?'].fillna('missing')\n",
    "rr_c['Marital Status'] = rr_c['Marital Status'].fillna('missing')\n",
    "\n",
    "y = coffee_data['Rating']\n",
    "cat_cols = ['Marital Status', 'Vegetarian?']\n",
    "enc = OneHotEncoder()\n",
    "X_cat = pd.DataFrame(enc.fit_transform(coffee_data[cat_cols]).toarray(), columns=enc.get_feature_names_out(cat_cols))\n",
    "\n",
    "# concatenate encoded categorical features and numerical features\n",
    "X = pd.concat([coffee_data[['Birth Year']].reset_index(drop=True), X_cat.reset_index(drop=True)], axis=1)\n",
    "\n",
    "# fit linear regression model\n",
    "model = LinearRegression()\n",
    "model.fit(X, y)\n",
    "\n",
    "# predict the restaurant score with row 8\n",
    "new_data = pd.DataFrame({'Birth Year': [1998], 'Marital Status': ['Single'], 'Vegetarian?': ['No']})\n",
    "new_cat = pd.DataFrame(enc.transform(new_data[cat_cols]).toarray(), columns=enc.get_feature_names_out(cat_cols))\n",
    "new_data = pd.concat([new_data[['Birth Year']], new_cat], axis=1)\n",
    "prediction = model.predict(new_data)\n",
    "print(prediction)\n",
    "print('error: ', prediction-4)"
   ]
  },
  {
   "cell_type": "markdown",
   "id": "1d8980ce",
   "metadata": {},
   "source": [
    "Finally, I have used demographic features to predict coffee scores for 3 coffee shops 'Philz Coffee', 'Brothers K Coffeehouse', 'Evanston Games & Cafe' in the dataset. There is actually one more marked as Coffee cuisine but more like a bakery actually, so I haved excluded it here. Thus, for these three restaurants only, I have fitted a linear model that takes demographic data and predicts the score here. And I have tried to predict for the restaurant score provided by a single non-vegetarian reviewer born in 1998 with this model and get a predicted score of 4.57204625, with an error of 0.57204625, which is relatively small."
   ]
  },
  {
   "cell_type": "markdown",
   "id": "cb7308cf",
   "metadata": {},
   "source": [
    "### 30"
   ]
  },
  {
   "cell_type": "code",
   "execution_count": 31,
   "id": "2af768d1",
   "metadata": {},
   "outputs": [
    {
     "name": "stdout",
     "output_type": "stream",
     "text": [
      "Coefficients:\n",
      "Birth Year 0.006852187196188132\n",
      "Marital Status_Married -0.06693190993875936\n",
      "Marital Status_Single -0.2619855555569427\n",
      "Marital Status_nan 0.32891746549570305\n",
      "Vegetarian?_No 0.02323104244849224\n",
      "Vegetarian?_nan -0.023231042448492157\n"
     ]
    }
   ],
   "source": [
    "print('Coefficients:')\n",
    "for name, coef in zip(X.columns, model.coef_):\n",
    "    print(name, coef)"
   ]
  },
  {
   "cell_type": "markdown",
   "id": "0ace8ff4",
   "metadata": {},
   "source": [
    "The weights produced by the linear model in step 29 is shown above, and we can see that higher birth year and non-vegetarian food items are associated with higher review scores, and reviewers with missing marital status tend to have higher review scores compared to those who are married or single. Also, missing values for vegetarian status are associated with lower review scores. To sum up, all three of these domographical features are selected on, and the weighs of Birth Year, unknown Marital Status, and vegetarian are positive, but married or single, and non-vegetarian weighs negative. Thus, older, unknown-marital-status, vegetarian like coffee more than others based on the model."
   ]
  },
  {
   "cell_type": "markdown",
   "id": "3900e108",
   "metadata": {},
   "source": [
    "## Final\n",
    "### 31"
   ]
  },
  {
   "cell_type": "code",
   "execution_count": 32,
   "id": "f953ad19",
   "metadata": {},
   "outputs": [
    {
     "name": "stdout",
     "output_type": "stream",
     "text": [
      "Coefficients:\n",
      "Birth Year 0.0038569933579799633\n",
      "Marital Status_Married 0.11548446311717343\n",
      "Marital Status_SIngle 0.01522400971499082\n",
      "Marital Status_Single 0.1314252294815861\n",
      "Marital Status_Widow -0.26213370231375055\n",
      "Vegetarian?_No -0.5670259487724395\n",
      "Vegetarian?_Yes 0.44651103351367527\n",
      "Vegetarian?_missing 0.12051491525876505\n",
      "Northwestern Student?_No 0.018757384682734843\n",
      "Northwestern Student?_Yes -0.018757384682734954\n"
     ]
    }
   ],
   "source": [
    "# One-hot encode the 'Northwestern Student?' column\n",
    "X = pd.get_dummies(rr[['Birth Year', 'Marital Status', 'Vegetarian?', 'Northwestern Student?']])\n",
    "\n",
    "# Fit the model\n",
    "model = LinearRegression()\n",
    "model.fit(X, rr['Rating'])\n",
    "\n",
    "print('Coefficients:')\n",
    "for name, coef in zip(X.columns, model.coef_):\n",
    "    print(name, coef)"
   ]
  },
  {
   "cell_type": "markdown",
   "id": "25092551",
   "metadata": {},
   "source": [
    "In this part, I have tried to fit a model with 'Northwestern Student?' to predict the rating of the review. For the model coefficients above, we can see that whether the reviewer is a northwestern student or not a northwestern student weighs almost the same but weighs opposite in the model, so whether a reviewer is a northwestern student almost affect the rating for this model. Northwestern students tend to grade lower than non-Northwestern students, which is interesting."
   ]
  }
 ],
 "metadata": {
  "kernelspec": {
   "display_name": "Python 3 (ipykernel)",
   "language": "python",
   "name": "python3"
  },
  "language_info": {
   "codemirror_mode": {
    "name": "ipython",
    "version": 3
   },
   "file_extension": ".py",
   "mimetype": "text/x-python",
   "name": "python",
   "nbconvert_exporter": "python",
   "pygments_lexer": "ipython3",
   "version": "3.10.9"
  }
 },
 "nbformat": 4,
 "nbformat_minor": 5
}
