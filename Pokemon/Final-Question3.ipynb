{
 "cells": [
  {
   "cell_type": "code",
   "execution_count": 1,
   "id": "41abd9b0",
   "metadata": {},
   "outputs": [],
   "source": [
    "import pandas as pd\n",
    "import numpy as np\n",
    "from sklearn.linear_model import Ridge\n",
    "from sklearn.metrics import mean_squared_error\n",
    "from sklearn.preprocessing import LabelEncoder\n",
    "from sklearn.ensemble import RandomForestClassifier\n",
    "from sklearn.metrics import accuracy_score"
   ]
  },
  {
   "cell_type": "code",
   "execution_count": 2,
   "id": "7be488c9",
   "metadata": {},
   "outputs": [
    {
     "name": "stdout",
     "output_type": "stream",
     "text": [
      "Columns with missing values: Index([], dtype='object')\n",
      "Columns with missing values: Index([], dtype='object')\n"
     ]
    }
   ],
   "source": [
    "train = pd.read_csv(\"question_3_4_5_pokemon_rankings_train.csv\")\n",
    "test = pd.read_csv(\"question_3_4_5_pokemon_rankings_test.csv\")\n",
    "mctr = train.columns[train.isnull().any()]\n",
    "mcte = test.columns[test.isnull().any()]\n",
    "print('Columns with missing values:', mctr)\n",
    "print('Columns with missing values:', mcte)\n",
    "\n",
    "col = ['famous_artist', 'photo_brightness_level', 'photo_depth_of_field ',\n",
    "       'is_pokemon_larger_than_a_burrito',\n",
    "       'cute_classification_conv_net_feature_14',\n",
    "       'cute_classification_conv_net_feature_26', 'photo_night_or_day']\n",
    "train[col] = train[col].apply(lambda x: x.astype(\"category\").cat.codes)\n",
    "test[col] = test[col].apply(lambda x: x.astype(\"category\").cat.codes)"
   ]
  },
  {
   "cell_type": "code",
   "execution_count": 3,
   "id": "a87cc2ea",
   "metadata": {},
   "outputs": [
    {
     "name": "stdout",
     "output_type": "stream",
     "text": [
      "MSE (Ridge): 1.006475896152878 \n",
      "\n"
     ]
    }
   ],
   "source": [
    "X_train = train.drop(columns=['pokemon_names', 'poke_tiers', 'raw_rankings'], axis=1)\n",
    "y_train = train['raw_rankings']\n",
    "ridge = Ridge(alpha=0.01)\n",
    "ridge.fit(X_train, y_train)\n",
    "\n",
    "X_test = test.drop(columns=['pokemon_names', 'poke_tiers', 'raw_rankings'], axis=1)\n",
    "y_test = test['raw_rankings']\n",
    "y_pred = ridge.predict(X_test)\n",
    "mse = mean_squared_error(y_test, y_pred)\n",
    "print('MSE (Ridge):', mse, '\\n')"
   ]
  },
  {
   "cell_type": "code",
   "execution_count": 4,
   "id": "4e133d8e",
   "metadata": {},
   "outputs": [
    {
     "name": "stdout",
     "output_type": "stream",
     "text": [
      "Test Set Accuracy: 0.35\n"
     ]
    }
   ],
   "source": [
    "mapping = {'C': 1, 'B': 2, 'A': 3, 'S': 4}\n",
    "train['poke_tiers'] = train['poke_tiers'].map(mapping)\n",
    "test['poke_tiers'] = test['poke_tiers'].map(mapping)\n",
    "\n",
    "X_train = train.drop(columns=['pokemon_names', 'poke_tiers', 'raw_rankings'], axis=1)\n",
    "y_train = train['poke_tiers']\n",
    "rfc = RandomForestClassifier()\n",
    "rfc.fit(X_train, y_train)\n",
    "\n",
    "X_test = test.drop(columns=['pokemon_names', 'poke_tiers', 'raw_rankings'], axis=1)\n",
    "y_test = test['poke_tiers']\n",
    "y_pred = rfc.predict(X_test)\n",
    "\n",
    "accuracy = accuracy_score(y_test, y_pred)\n",
    "print('Test Set Accuracy:', accuracy)"
   ]
  },
  {
   "cell_type": "code",
   "execution_count": 5,
   "id": "d8dd8e4a",
   "metadata": {},
   "outputs": [
    {
     "name": "stdout",
     "output_type": "stream",
     "text": [
      "MSE (Random forest classifier): 1.54\n"
     ]
    }
   ],
   "source": [
    "y_pred = rfc.predict(X_test)\n",
    "mse = mean_squared_error(y_test, y_pred)\n",
    "print('MSE (Random forest classifier):', mse)"
   ]
  }
 ],
 "metadata": {
  "kernelspec": {
   "display_name": "Python 3 (ipykernel)",
   "language": "python",
   "name": "python3"
  },
  "language_info": {
   "codemirror_mode": {
    "name": "ipython",
    "version": 3
   },
   "file_extension": ".py",
   "mimetype": "text/x-python",
   "name": "python",
   "nbconvert_exporter": "python",
   "pygments_lexer": "ipython3",
   "version": "3.10.9"
  }
 },
 "nbformat": 4,
 "nbformat_minor": 5
}
