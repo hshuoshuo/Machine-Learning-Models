{
 "cells": [
  {
   "cell_type": "code",
   "execution_count": 1,
   "id": "ed572ca4",
   "metadata": {},
   "outputs": [],
   "source": [
    "import pandas as pd\n",
    "import numpy as np\n",
    "from sklearn.linear_model import LogisticRegression\n",
    "from sklearn.model_selection import train_test_split"
   ]
  },
  {
   "cell_type": "code",
   "execution_count": 2,
   "id": "24e1dd9b",
   "metadata": {},
   "outputs": [
    {
     "name": "stdout",
     "output_type": "stream",
     "text": [
      "Missing columns: Index([], dtype='object')\n"
     ]
    }
   ],
   "source": [
    "df = pd.read_csv(\"question_1_pokemon_cuteness_data.csv\")\n",
    "mcs = df.columns[df.isnull().any()]\n",
    "print('Missing columns:', mcs)\n",
    "\n",
    "df[\"pokemon_cute\"] = df[\"pokemon_cute\"].astype(int)\n",
    "col = ['multiple_pokes_in_pic', 'photo_contrast_level', 'pokes_size_in_frame', 'looks_fluffy', 'original_image_source']\n",
    "df[col] = df[col].apply(lambda x: x.astype(\"category\").cat.codes)"
   ]
  },
  {
   "cell_type": "code",
   "execution_count": 3,
   "id": "2dfbf5a1",
   "metadata": {},
   "outputs": [
    {
     "name": "stdout",
     "output_type": "stream",
     "text": [
      "Most voted: Vulpix (202 votes)\n"
     ]
    }
   ],
   "source": [
    "maxp = df.loc[df['pokemon_cute'] == 1, 'pokemon_names'].value_counts().idxmax()\n",
    "numv = df.loc[df['pokemon_cute'] == 1, 'pokemon_names'].value_counts().max()\n",
    "print('Most voted: {} ({} votes)'.format(maxp, numv))"
   ]
  },
  {
   "cell_type": "code",
   "execution_count": 4,
   "id": "cee13dab",
   "metadata": {},
   "outputs": [
    {
     "name": "stdout",
     "output_type": "stream",
     "text": [
      "Coefficients:\n",
      "multiple_pokes_in_pic: -0.0646778413824124\n",
      "photo_contrast_level: -0.012097719044386888\n",
      "pokes_size_in_frame: -0.04753740939650572\n",
      "looks_fluffy: 1.2686989295315338\n",
      "original_image_source: -0.06876631446657665\n"
     ]
    }
   ],
   "source": [
    "X = df.drop(['pokemon_names','pokemon_cute'], axis = 1)\n",
    "y = df['pokemon_cute']\n",
    "X_train, X_test, y_train, y_test = train_test_split(X, y, test_size=0.2, random_state=0)\n",
    "\n",
    "model = LogisticRegression()\n",
    "model.fit(X_train, y_train)\n",
    "coefs = model.coef_\n",
    "features = X_train.columns.tolist()\n",
    "\n",
    "print(\"Coefficients:\")\n",
    "for feature, coef in zip(features, coefs[0]):\n",
    "    print(f\"{feature}: {coef}\")"
   ]
  }
 ],
 "metadata": {
  "kernelspec": {
   "display_name": "Python 3 (ipykernel)",
   "language": "python",
   "name": "python3"
  },
  "language_info": {
   "codemirror_mode": {
    "name": "ipython",
    "version": 3
   },
   "file_extension": ".py",
   "mimetype": "text/x-python",
   "name": "python",
   "nbconvert_exporter": "python",
   "pygments_lexer": "ipython3",
   "version": "3.10.9"
  }
 },
 "nbformat": 4,
 "nbformat_minor": 5
}
