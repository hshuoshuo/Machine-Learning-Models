{
 "cells": [
  {
   "cell_type": "code",
   "execution_count": 1,
   "id": "ed572ca4",
   "metadata": {},
   "outputs": [],
   "source": [
    "import pandas as pd\n",
    "import numpy as np\n",
    "from sklearn.preprocessing import StandardScaler\n",
    "from sklearn.metrics.pairwise import cosine_similarity"
   ]
  },
  {
   "cell_type": "code",
   "execution_count": 2,
   "id": "50f64a48",
   "metadata": {},
   "outputs": [
    {
     "name": "stdout",
     "output_type": "stream",
     "text": [
      "Columns with missing values: Index(['height_m', 'percentage_male', 'weight_kg'], dtype='object')\n"
     ]
    }
   ],
   "source": [
    "df = pd.read_csv(\"question_2_pokemon_biology_data.csv\")\n",
    "mcs = df.columns[df.isnull().any()]\n",
    "print('Columns with missing values:', mcs)\n",
    "\n",
    "df['height_m'].fillna(df['height_m'].mean(), inplace=True)\n",
    "df['percentage_male'].fillna(df['percentage_male'].mean(), inplace=True)\n",
    "df['weight_kg'].fillna(df['weight_kg'].mean(), inplace=True)\n",
    "\n",
    "columns_to_normalize = ['attack', 'defense', 'height_m', 'percentage_male', 'speed', 'weight_kg']\n",
    "scaler = StandardScaler()\n",
    "df[columns_to_normalize] = scaler.fit_transform(df[columns_to_normalize])"
   ]
  },
  {
   "cell_type": "code",
   "execution_count": 3,
   "id": "4bf48227",
   "metadata": {},
   "outputs": [
    {
     "name": "stdout",
     "output_type": "stream",
     "text": [
      "Hariyama is the most similar to Snorlax\n",
      "Vivillon is the most similar to Haunter\n",
      "Victini is the most similar to Mew\n"
     ]
    }
   ],
   "source": [
    "def find_most_similar_mon(df, input):\n",
    "    numeric_df = df.select_dtypes(include='number')\n",
    "    df = df.set_index('name')\n",
    "    cos_sim_matrix = cosine_similarity(numeric_df.values)\n",
    "\n",
    "    target_user_index = df.index.get_loc(input)\n",
    "    similar_user_index = np.argsort(-cos_sim_matrix[target_user_index])[1]\n",
    "    similar_user_name = df.iloc[similar_user_index].name\n",
    "    print(similar_user_name, 'is the most similar to', input)\n",
    "    \n",
    "find_most_similar_mon(df,'Snorlax')\n",
    "find_most_similar_mon(df,'Haunter')\n",
    "find_most_similar_mon(df,'Mew')"
   ]
  },
  {
   "cell_type": "code",
   "execution_count": null,
   "id": "b3732a78",
   "metadata": {},
   "outputs": [],
   "source": []
  }
 ],
 "metadata": {
  "kernelspec": {
   "display_name": "Python 3 (ipykernel)",
   "language": "python",
   "name": "python3"
  },
  "language_info": {
   "codemirror_mode": {
    "name": "ipython",
    "version": 3
   },
   "file_extension": ".py",
   "mimetype": "text/x-python",
   "name": "python",
   "nbconvert_exporter": "python",
   "pygments_lexer": "ipython3",
   "version": "3.10.9"
  }
 },
 "nbformat": 4,
 "nbformat_minor": 5
}
